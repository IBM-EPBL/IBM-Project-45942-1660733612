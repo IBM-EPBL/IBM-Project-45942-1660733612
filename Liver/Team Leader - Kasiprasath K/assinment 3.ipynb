{
 "cells": [
  {
   "cell_type": "markdown",
   "metadata": {},
   "source": [
    "load the dataset"
   ]
  },
  {
   "cell_type": "code",
   "execution_count": 1,
   "metadata": {},
   "outputs": [],
   "source": [
    "import pandas as pd\n",
    "import numpy as np\n",
    "import matplotlib.pyplot as plt\n",
    "import seaborn as sns\n",
    "import warnings\n",
    "warnings.filterwarnings(\"ignore\")"
   ]
  },
  {
   "cell_type": "code",
   "execution_count": 2,
   "metadata": {},
   "outputs": [],
   "source": [
    "df= pd.read_csv(\"C:/Users/kasip/Dropbox/PC/Downloads/abalone.csv\")"
   ]
  },
  {
   "cell_type": "code",
   "execution_count": 3,
   "metadata": {},
   "outputs": [
    {
     "data": {
      "text/html": [
       "<div>\n",
       "<style scoped>\n",
       "    .dataframe tbody tr th:only-of-type {\n",
       "        vertical-align: middle;\n",
       "    }\n",
       "\n",
       "    .dataframe tbody tr th {\n",
       "        vertical-align: top;\n",
       "    }\n",
       "\n",
       "    .dataframe thead th {\n",
       "        text-align: right;\n",
       "    }\n",
       "</style>\n",
       "<table border=\"1\" class=\"dataframe\">\n",
       "  <thead>\n",
       "    <tr style=\"text-align: right;\">\n",
       "      <th></th>\n",
       "      <th>Sex</th>\n",
       "      <th>Length</th>\n",
       "      <th>Diameter</th>\n",
       "      <th>Height</th>\n",
       "      <th>Whole weight</th>\n",
       "      <th>Shucked weight</th>\n",
       "      <th>Viscera weight</th>\n",
       "      <th>Shell weight</th>\n",
       "      <th>Rings</th>\n",
       "    </tr>\n",
       "  </thead>\n",
       "  <tbody>\n",
       "    <tr>\n",
       "      <th>0</th>\n",
       "      <td>M</td>\n",
       "      <td>0.455</td>\n",
       "      <td>0.365</td>\n",
       "      <td>0.095</td>\n",
       "      <td>0.5140</td>\n",
       "      <td>0.2245</td>\n",
       "      <td>0.1010</td>\n",
       "      <td>0.1500</td>\n",
       "      <td>15</td>\n",
       "    </tr>\n",
       "    <tr>\n",
       "      <th>1</th>\n",
       "      <td>M</td>\n",
       "      <td>0.350</td>\n",
       "      <td>0.265</td>\n",
       "      <td>0.090</td>\n",
       "      <td>0.2255</td>\n",
       "      <td>0.0995</td>\n",
       "      <td>0.0485</td>\n",
       "      <td>0.0700</td>\n",
       "      <td>7</td>\n",
       "    </tr>\n",
       "    <tr>\n",
       "      <th>2</th>\n",
       "      <td>F</td>\n",
       "      <td>0.530</td>\n",
       "      <td>0.420</td>\n",
       "      <td>0.135</td>\n",
       "      <td>0.6770</td>\n",
       "      <td>0.2565</td>\n",
       "      <td>0.1415</td>\n",
       "      <td>0.2100</td>\n",
       "      <td>9</td>\n",
       "    </tr>\n",
       "    <tr>\n",
       "      <th>3</th>\n",
       "      <td>M</td>\n",
       "      <td>0.440</td>\n",
       "      <td>0.365</td>\n",
       "      <td>0.125</td>\n",
       "      <td>0.5160</td>\n",
       "      <td>0.2155</td>\n",
       "      <td>0.1140</td>\n",
       "      <td>0.1550</td>\n",
       "      <td>10</td>\n",
       "    </tr>\n",
       "    <tr>\n",
       "      <th>4</th>\n",
       "      <td>I</td>\n",
       "      <td>0.330</td>\n",
       "      <td>0.255</td>\n",
       "      <td>0.080</td>\n",
       "      <td>0.2050</td>\n",
       "      <td>0.0895</td>\n",
       "      <td>0.0395</td>\n",
       "      <td>0.0550</td>\n",
       "      <td>7</td>\n",
       "    </tr>\n",
       "    <tr>\n",
       "      <th>...</th>\n",
       "      <td>...</td>\n",
       "      <td>...</td>\n",
       "      <td>...</td>\n",
       "      <td>...</td>\n",
       "      <td>...</td>\n",
       "      <td>...</td>\n",
       "      <td>...</td>\n",
       "      <td>...</td>\n",
       "      <td>...</td>\n",
       "    </tr>\n",
       "    <tr>\n",
       "      <th>4172</th>\n",
       "      <td>F</td>\n",
       "      <td>0.565</td>\n",
       "      <td>0.450</td>\n",
       "      <td>0.165</td>\n",
       "      <td>0.8870</td>\n",
       "      <td>0.3700</td>\n",
       "      <td>0.2390</td>\n",
       "      <td>0.2490</td>\n",
       "      <td>11</td>\n",
       "    </tr>\n",
       "    <tr>\n",
       "      <th>4173</th>\n",
       "      <td>M</td>\n",
       "      <td>0.590</td>\n",
       "      <td>0.440</td>\n",
       "      <td>0.135</td>\n",
       "      <td>0.9660</td>\n",
       "      <td>0.4390</td>\n",
       "      <td>0.2145</td>\n",
       "      <td>0.2605</td>\n",
       "      <td>10</td>\n",
       "    </tr>\n",
       "    <tr>\n",
       "      <th>4174</th>\n",
       "      <td>M</td>\n",
       "      <td>0.600</td>\n",
       "      <td>0.475</td>\n",
       "      <td>0.205</td>\n",
       "      <td>1.1760</td>\n",
       "      <td>0.5255</td>\n",
       "      <td>0.2875</td>\n",
       "      <td>0.3080</td>\n",
       "      <td>9</td>\n",
       "    </tr>\n",
       "    <tr>\n",
       "      <th>4175</th>\n",
       "      <td>F</td>\n",
       "      <td>0.625</td>\n",
       "      <td>0.485</td>\n",
       "      <td>0.150</td>\n",
       "      <td>1.0945</td>\n",
       "      <td>0.5310</td>\n",
       "      <td>0.2610</td>\n",
       "      <td>0.2960</td>\n",
       "      <td>10</td>\n",
       "    </tr>\n",
       "    <tr>\n",
       "      <th>4176</th>\n",
       "      <td>M</td>\n",
       "      <td>0.710</td>\n",
       "      <td>0.555</td>\n",
       "      <td>0.195</td>\n",
       "      <td>1.9485</td>\n",
       "      <td>0.9455</td>\n",
       "      <td>0.3765</td>\n",
       "      <td>0.4950</td>\n",
       "      <td>12</td>\n",
       "    </tr>\n",
       "  </tbody>\n",
       "</table>\n",
       "<p>4177 rows × 9 columns</p>\n",
       "</div>"
      ],
      "text/plain": [
       "     Sex  Length  Diameter  Height  Whole weight  Shucked weight  \\\n",
       "0      M   0.455     0.365   0.095        0.5140          0.2245   \n",
       "1      M   0.350     0.265   0.090        0.2255          0.0995   \n",
       "2      F   0.530     0.420   0.135        0.6770          0.2565   \n",
       "3      M   0.440     0.365   0.125        0.5160          0.2155   \n",
       "4      I   0.330     0.255   0.080        0.2050          0.0895   \n",
       "...   ..     ...       ...     ...           ...             ...   \n",
       "4172   F   0.565     0.450   0.165        0.8870          0.3700   \n",
       "4173   M   0.590     0.440   0.135        0.9660          0.4390   \n",
       "4174   M   0.600     0.475   0.205        1.1760          0.5255   \n",
       "4175   F   0.625     0.485   0.150        1.0945          0.5310   \n",
       "4176   M   0.710     0.555   0.195        1.9485          0.9455   \n",
       "\n",
       "      Viscera weight  Shell weight  Rings  \n",
       "0             0.1010        0.1500     15  \n",
       "1             0.0485        0.0700      7  \n",
       "2             0.1415        0.2100      9  \n",
       "3             0.1140        0.1550     10  \n",
       "4             0.0395        0.0550      7  \n",
       "...              ...           ...    ...  \n",
       "4172          0.2390        0.2490     11  \n",
       "4173          0.2145        0.2605     10  \n",
       "4174          0.2875        0.3080      9  \n",
       "4175          0.2610        0.2960     10  \n",
       "4176          0.3765        0.4950     12  \n",
       "\n",
       "[4177 rows x 9 columns]"
      ]
     },
     "execution_count": 3,
     "metadata": {},
     "output_type": "execute_result"
    }
   ],
   "source": [
    "df"
   ]
  },
  {
   "cell_type": "markdown",
   "metadata": {},
   "source": [
    "univariate Analysis"
   ]
  },
  {
   "cell_type": "code",
   "execution_count": 4,
   "metadata": {},
   "outputs": [
    {
     "data": {
      "text/plain": [
       "<seaborn.axisgrid.FacetGrid at 0x1ecb7154df0>"
      ]
     },
     "execution_count": 4,
     "metadata": {},
     "output_type": "execute_result"
    },
    {
     "data": {
      "image/png": "[encoded data removed]",
      "text/plain": [
       "<Figure size 500x500 with 1 Axes>"
      ]
     },
     "metadata": {},
     "output_type": "display_data"
    }
   ],
   "source": [
    "sns.displot(df['Length'])"
   ]
  },
  {
   "cell_type": "code",
   "execution_count": 5,
   "metadata": {},
   "outputs": [
    {
     "data": {
      "text/plain": [
       "<seaborn.axisgrid.FacetGrid at 0x1ecb7157bb0>"
      ]
     },
     "execution_count": 5,
     "metadata": {},
     "output_type": "execute_result"
    },
    {
     "data": {
      "image/png": "[encoded data removed]",
      "text/plain": [
       "<Figure size 500x500 with 1 Axes>"
      ]
     },
     "metadata": {},
     "output_type": "display_data"
    }
   ],
   "source": [
    "sns.displot(df['Diameter'])"
   ]
  },
  {
   "cell_type": "code",
   "execution_count": 6,
   "metadata": {},
   "outputs": [
    {
     "data": {
      "text/plain": [
       "<seaborn.axisgrid.FacetGrid at 0x1ecb93b7280>"
      ]
     },
     "execution_count": 6,
     "metadata": {},
     "output_type": "execute_result"
    },
    {
     "data": {
      "image/png": "[encoded data removed]",
      "text/plain": [
       "<Figure size 500x500 with 1 Axes>"
      ]
     },
     "metadata": {},
     "output_type": "display_data"
    }
   ],
   "source": [
    "sns.displot(df['Height'])"
   ]
  },
  {
   "cell_type": "code",
   "execution_count": 7,
   "metadata": {},
   "outputs": [
    {
     "data": {
      "text/plain": [
       "<seaborn.axisgrid.FacetGrid at 0x1ecb9412ad0>"
      ]
     },
     "execution_count": 7,
     "metadata": {},
     "output_type": "execute_result"
    },
    {
     "data": {
      "image/png": "[encoded data removed]",
      "text/plain": [
       "<Figure size 500x500 with 1 Axes>"
      ]
     },
     "metadata": {},
     "output_type": "display_data"
    }
   ],
   "source": [
    "sns.displot(df['Whole weight'])"
   ]
  },
  {
   "cell_type": "code",
   "execution_count": 8,
   "metadata": {},
   "outputs": [
    {
     "data": {
      "text/plain": [
       "<seaborn.axisgrid.FacetGrid at 0x1ecb966eef0>"
      ]
     },
     "execution_count": 8,
     "metadata": {},
     "output_type": "execute_result"
    },
    {
     "data": {
      "image/png": "[encoded data removed]",
      "text/plain": [
       "<Figure size 500x500 with 1 Axes>"
      ]
     },
     "metadata": {},
     "output_type": "display_data"
    }
   ],
   "source": [
    "sns.displot(df['Shucked weight'])"
   ]
  },
  {
   "cell_type": "code",
   "execution_count": 9,
   "metadata": {},
   "outputs": [
    {
     "data": {
      "text/plain": [
       "<seaborn.axisgrid.FacetGrid at 0x1ecba76f970>"
      ]
     },
     "execution_count": 9,
     "metadata": {},
     "output_type": "execute_result"
    },
    {
     "data": {
      "image/png": "[encoded data removed]",
      "text/plain": [
       "<Figure size 500x500 with 1 Axes>"
      ]
     },
     "metadata": {},
     "output_type": "display_data"
    }
   ],
   "source": [
    "sns.displot(df['Viscera weight'])"
   ]
  },
  {
   "cell_type": "code",
   "execution_count": 10,
   "metadata": {},
   "outputs": [
    {
     "data": {
      "text/plain": [
       "<seaborn.axisgrid.FacetGrid at 0x1ecba842290>"
      ]
     },
     "execution_count": 10,
     "metadata": {},
     "output_type": "execute_result"
    },
    {
     "data": {
      "image/png": "[encoded data removed]",
      "text/plain": [
       "<Figure size 500x500 with 1 Axes>"
      ]
     },
     "metadata": {},
     "output_type": "display_data"
    }
   ],
   "source": [
    "sns.displot(df['Shell weight'])"
   ]
  },
  {
   "cell_type": "code",
   "execution_count": 11,
   "metadata": {},
   "outputs": [
    {
     "data": {
      "text/plain": [
       "<seaborn.axisgrid.FacetGrid at 0x1ecb960bac0>"
      ]
     },
     "execution_count": 11,
     "metadata": {},
     "output_type": "execute_result"
    },
    {
     "data": {
      "image/png": "[encoded data removed]",
      "text/plain": [
       "<Figure size 500x500 with 1 Axes>"
      ]
     },
     "metadata": {},
     "output_type": "display_data"
    }
   ],
   "source": [
    "sns.displot(df['Rings'])"
   ]
  },
  {
   "cell_type": "markdown",
   "metadata": {},
   "source": [
    "Bi-variate Analysis"
   ]
  },
  {
   "cell_type": "code",
   "execution_count": 12,
   "metadata": {},
   "outputs": [
    {
     "data": {
      "text/plain": [
       "<seaborn.axisgrid.FacetGrid at 0x1ecba8421a0>"
      ]
     },
     "execution_count": 12,
     "metadata": {},
     "output_type": "execute_result"
    },
    {
     "data": {
      "image/png": "[encoded data removed]",
      "text/plain": [
       "<Figure size 500x500 with 1 Axes>"
      ]
     },
     "metadata": {},
     "output_type": "display_data"
    }
   ],
   "source": [
    "sns.relplot(x = \"Length\", y = 'Diameter', data = df)"
   ]
  },
  {
   "cell_type": "code",
   "execution_count": 13,
   "metadata": {},
   "outputs": [
    {
     "data": {
      "text/plain": [
       "<seaborn.axisgrid.FacetGrid at 0x1ecba918a60>"
      ]
     },
     "execution_count": 13,
     "metadata": {},
     "output_type": "execute_result"
    },
    {
     "data": {
      "image/png": "[encoded data removed]",
      "text/plain": [
       "<Figure size 500x500 with 1 Axes>"
      ]
     },
     "metadata": {},
     "output_type": "display_data"
    }
   ],
   "source": [
    "sns.relplot(x = \"Shucked weight\", y = 'Whole weight', data = df)"
   ]
  },
  {
   "cell_type": "code",
   "execution_count": 14,
   "metadata": {},
   "outputs": [
    {
     "data": {
      "text/plain": [
       "<seaborn.axisgrid.FacetGrid at 0x1ecba6d24a0>"
      ]
     },
     "execution_count": 14,
     "metadata": {},
     "output_type": "execute_result"
    },
    {
     "data": {
      "image/png": "[encoded data removed]",
      "text/plain": [
       "<Figure size 500x500 with 1 Axes>"
      ]
     },
     "metadata": {},
     "output_type": "display_data"
    }
   ],
   "source": [
    "sns.relplot(x = \"Viscera weight\", y = 'Shell weight', data = df)"
   ]
  },
  {
   "cell_type": "code",
   "execution_count": 15,
   "metadata": {},
   "outputs": [
    {
     "data": {
      "text/plain": [
       "<seaborn.axisgrid.FacetGrid at 0x1ecbaa8f550>"
      ]
     },
     "execution_count": 15,
     "metadata": {},
     "output_type": "execute_result"
    },
    {
     "data": {
      "image/png": "[encoded data removed]",
      "text/plain": [
       "<Figure size 500x500 with 1 Axes>"
      ]
     },
     "metadata": {},
     "output_type": "display_data"
    }
   ],
   "source": [
    "sns.relplot(x = \"Rings\", y = 'Length', data = df)"
   ]
  },
  {
   "cell_type": "markdown",
   "metadata": {},
   "source": [
    "Multivariate Analysis"
   ]
  },
  {
   "cell_type": "code",
   "execution_count": 16,
   "metadata": {},
   "outputs": [
    {
     "data": {
      "text/plain": [
       "<seaborn.axisgrid.PairGrid at 0x1ecbbbcdea0>"
      ]
     },
     "execution_count": 16,
     "metadata": {},
     "output_type": "execute_result"
    }
   ],
   "source": [
    "sns.pairplot(data = df,hue = \"Rings\")"
   ]
  },
  {
   "cell_type": "markdown",
   "metadata": {},
   "source": [
    "Descriptive Statistics"
   ]
  },
  {
   "cell_type": "code",
   "execution_count": null,
   "metadata": {},
   "outputs": [
    {
     "data": {
      "text/html": [
       "<div>\n",
       "<style scoped>\n",
       "    .dataframe tbody tr th:only-of-type {\n",
       "        vertical-align: middle;\n",
       "    }\n",
       "\n",
       "    .dataframe tbody tr th {\n",
       "        vertical-align: top;\n",
       "    }\n",
       "\n",
       "    .dataframe thead th {\n",
       "        text-align: right;\n",
       "    }\n",
       "</style>\n",
       "<table border=\"1\" class=\"dataframe\">\n",
       "  <thead>\n",
       "    <tr style=\"text-align: right;\">\n",
       "      <th></th>\n",
       "      <th>Sex</th>\n",
       "      <th>Length</th>\n",
       "      <th>Diameter</th>\n",
       "      <th>Height</th>\n",
       "      <th>Whole weight</th>\n",
       "      <th>Shucked weight</th>\n",
       "      <th>Viscera weight</th>\n",
       "      <th>Shell weight</th>\n",
       "      <th>Rings</th>\n",
       "    </tr>\n",
       "  </thead>\n",
       "  <tbody>\n",
       "    <tr>\n",
       "      <th>0</th>\n",
       "      <td>M</td>\n",
       "      <td>0.455</td>\n",
       "      <td>0.365</td>\n",
       "      <td>0.095</td>\n",
       "      <td>0.5140</td>\n",
       "      <td>0.2245</td>\n",
       "      <td>0.1010</td>\n",
       "      <td>0.150</td>\n",
       "      <td>15</td>\n",
       "    </tr>\n",
       "    <tr>\n",
       "      <th>1</th>\n",
       "      <td>M</td>\n",
       "      <td>0.350</td>\n",
       "      <td>0.265</td>\n",
       "      <td>0.090</td>\n",
       "      <td>0.2255</td>\n",
       "      <td>0.0995</td>\n",
       "      <td>0.0485</td>\n",
       "      <td>0.070</td>\n",
       "      <td>7</td>\n",
       "    </tr>\n",
       "    <tr>\n",
       "      <th>2</th>\n",
       "      <td>F</td>\n",
       "      <td>0.530</td>\n",
       "      <td>0.420</td>\n",
       "      <td>0.135</td>\n",
       "      <td>0.6770</td>\n",
       "      <td>0.2565</td>\n",
       "      <td>0.1415</td>\n",
       "      <td>0.210</td>\n",
       "      <td>9</td>\n",
       "    </tr>\n",
       "    <tr>\n",
       "      <th>3</th>\n",
       "      <td>M</td>\n",
       "      <td>0.440</td>\n",
       "      <td>0.365</td>\n",
       "      <td>0.125</td>\n",
       "      <td>0.5160</td>\n",
       "      <td>0.2155</td>\n",
       "      <td>0.1140</td>\n",
       "      <td>0.155</td>\n",
       "      <td>10</td>\n",
       "    </tr>\n",
       "    <tr>\n",
       "      <th>4</th>\n",
       "      <td>I</td>\n",
       "      <td>0.330</td>\n",
       "      <td>0.255</td>\n",
       "      <td>0.080</td>\n",
       "      <td>0.2050</td>\n",
       "      <td>0.0895</td>\n",
       "      <td>0.0395</td>\n",
       "      <td>0.055</td>\n",
       "      <td>7</td>\n",
       "    </tr>\n",
       "    <tr>\n",
       "      <th>5</th>\n",
       "      <td>I</td>\n",
       "      <td>0.425</td>\n",
       "      <td>0.300</td>\n",
       "      <td>0.095</td>\n",
       "      <td>0.3515</td>\n",
       "      <td>0.1410</td>\n",
       "      <td>0.0775</td>\n",
       "      <td>0.120</td>\n",
       "      <td>8</td>\n",
       "    </tr>\n",
       "    <tr>\n",
       "      <th>6</th>\n",
       "      <td>F</td>\n",
       "      <td>0.530</td>\n",
       "      <td>0.415</td>\n",
       "      <td>0.150</td>\n",
       "      <td>0.7775</td>\n",
       "      <td>0.2370</td>\n",
       "      <td>0.1415</td>\n",
       "      <td>0.330</td>\n",
       "      <td>20</td>\n",
       "    </tr>\n",
       "    <tr>\n",
       "      <th>7</th>\n",
       "      <td>F</td>\n",
       "      <td>0.545</td>\n",
       "      <td>0.425</td>\n",
       "      <td>0.125</td>\n",
       "      <td>0.7680</td>\n",
       "      <td>0.2940</td>\n",
       "      <td>0.1495</td>\n",
       "      <td>0.260</td>\n",
       "      <td>16</td>\n",
       "    </tr>\n",
       "    <tr>\n",
       "      <th>8</th>\n",
       "      <td>M</td>\n",
       "      <td>0.475</td>\n",
       "      <td>0.370</td>\n",
       "      <td>0.125</td>\n",
       "      <td>0.5095</td>\n",
       "      <td>0.2165</td>\n",
       "      <td>0.1125</td>\n",
       "      <td>0.165</td>\n",
       "      <td>9</td>\n",
       "    </tr>\n",
       "    <tr>\n",
       "      <th>9</th>\n",
       "      <td>F</td>\n",
       "      <td>0.550</td>\n",
       "      <td>0.440</td>\n",
       "      <td>0.150</td>\n",
       "      <td>0.8945</td>\n",
       "      <td>0.3145</td>\n",
       "      <td>0.1510</td>\n",
       "      <td>0.320</td>\n",
       "      <td>19</td>\n",
       "    </tr>\n",
       "    <tr>\n",
       "      <th>10</th>\n",
       "      <td>F</td>\n",
       "      <td>0.525</td>\n",
       "      <td>0.380</td>\n",
       "      <td>0.140</td>\n",
       "      <td>0.6065</td>\n",
       "      <td>0.1940</td>\n",
       "      <td>0.1475</td>\n",
       "      <td>0.210</td>\n",
       "      <td>14</td>\n",
       "    </tr>\n",
       "    <tr>\n",
       "      <th>11</th>\n",
       "      <td>M</td>\n",
       "      <td>0.430</td>\n",
       "      <td>0.350</td>\n",
       "      <td>0.110</td>\n",
       "      <td>0.4060</td>\n",
       "      <td>0.1675</td>\n",
       "      <td>0.0810</td>\n",
       "      <td>0.135</td>\n",
       "      <td>10</td>\n",
       "    </tr>\n",
       "    <tr>\n",
       "      <th>12</th>\n",
       "      <td>M</td>\n",
       "      <td>0.490</td>\n",
       "      <td>0.380</td>\n",
       "      <td>0.135</td>\n",
       "      <td>0.5415</td>\n",
       "      <td>0.2175</td>\n",
       "      <td>0.0950</td>\n",
       "      <td>0.190</td>\n",
       "      <td>11</td>\n",
       "    </tr>\n",
       "    <tr>\n",
       "      <th>13</th>\n",
       "      <td>F</td>\n",
       "      <td>0.535</td>\n",
       "      <td>0.405</td>\n",
       "      <td>0.145</td>\n",
       "      <td>0.6845</td>\n",
       "      <td>0.2725</td>\n",
       "      <td>0.1710</td>\n",
       "      <td>0.205</td>\n",
       "      <td>10</td>\n",
       "    </tr>\n",
       "    <tr>\n",
       "      <th>14</th>\n",
       "      <td>F</td>\n",
       "      <td>0.470</td>\n",
       "      <td>0.355</td>\n",
       "      <td>0.100</td>\n",
       "      <td>0.4755</td>\n",
       "      <td>0.1675</td>\n",
       "      <td>0.0805</td>\n",
       "      <td>0.185</td>\n",
       "      <td>10</td>\n",
       "    </tr>\n",
       "  </tbody>\n",
       "</table>\n",
       "</div>"
      ],
      "text/plain": [
       "   Sex  Length  Diameter  Height  Whole weight  Shucked weight  \\\n",
       "0    M   0.455     0.365   0.095        0.5140          0.2245   \n",
       "1    M   0.350     0.265   0.090        0.2255          0.0995   \n",
       "2    F   0.530     0.420   0.135        0.6770          0.2565   \n",
       "3    M   0.440     0.365   0.125        0.5160          0.2155   \n",
       "4    I   0.330     0.255   0.080        0.2050          0.0895   \n",
       "5    I   0.425     0.300   0.095        0.3515          0.1410   \n",
       "6    F   0.530     0.415   0.150        0.7775          0.2370   \n",
       "7    F   0.545     0.425   0.125        0.7680          0.2940   \n",
       "8    M   0.475     0.370   0.125        0.5095          0.2165   \n",
       "9    F   0.550     0.440   0.150        0.8945          0.3145   \n",
       "10   F   0.525     0.380   0.140        0.6065          0.1940   \n",
       "11   M   0.430     0.350   0.110        0.4060          0.1675   \n",
       "12   M   0.490     0.380   0.135        0.5415          0.2175   \n",
       "13   F   0.535     0.405   0.145        0.6845          0.2725   \n",
       "14   F   0.470     0.355   0.100        0.4755          0.1675   \n",
       "\n",
       "    Viscera weight  Shell weight  Rings  \n",
       "0           0.1010         0.150     15  \n",
       "1           0.0485         0.070      7  \n",
       "2           0.1415         0.210      9  \n",
       "3           0.1140         0.155     10  \n",
       "4           0.0395         0.055      7  \n",
       "5           0.0775         0.120      8  \n",
       "6           0.1415         0.330     20  \n",
       "7           0.1495         0.260     16  \n",
       "8           0.1125         0.165      9  \n",
       "9           0.1510         0.320     19  \n",
       "10          0.1475         0.210     14  \n",
       "11          0.0810         0.135     10  \n",
       "12          0.0950         0.190     11  \n",
       "13          0.1710         0.205     10  \n",
       "14          0.0805         0.185     10  "
      ]
     },
     "execution_count": 563,
     "metadata": {},
     "output_type": "execute_result"
    }
   ],
   "source": [
    "df.head(15)"
   ]
  },
  {
   "cell_type": "code",
   "execution_count": null,
   "metadata": {},
   "outputs": [
    {
     "name": "stdout",
     "output_type": "stream",
     "text": [
      "<class 'pandas.core.frame.DataFrame'>\n",
      "RangeIndex: 4177 entries, 0 to 4176\n",
      "Data columns (total 9 columns):\n",
      " #   Column          Non-Null Count  Dtype  \n",
      "---  ------          --------------  -----  \n",
      " 0   Sex             4177 non-null   object \n",
      " 1   Length          4177 non-null   float64\n",
      " 2   Diameter        4177 non-null   float64\n",
      " 3   Height          4177 non-null   float64\n",
      " 4   Whole weight    4177 non-null   float64\n",
      " 5   Shucked weight  4177 non-null   float64\n",
      " 6   Viscera weight  4177 non-null   float64\n",
      " 7   Shell weight    4177 non-null   float64\n",
      " 8   Rings           4177 non-null   int64  \n",
      "dtypes: float64(7), int64(1), object(1)\n",
      "memory usage: 293.8+ KB\n"
     ]
    }
   ],
   "source": [
    "df.info()"
   ]
  },
  {
   "cell_type": "code",
   "execution_count": null,
   "metadata": {},
   "outputs": [
    {
     "data": {
      "text/html": [
       "<div>\n",
       "<style scoped>\n",
       "    .dataframe tbody tr th:only-of-type {\n",
       "        vertical-align: middle;\n",
       "    }\n",
       "\n",
       "    .dataframe tbody tr th {\n",
       "        vertical-align: top;\n",
       "    }\n",
       "\n",
       "    .dataframe thead th {\n",
       "        text-align: right;\n",
       "    }\n",
       "</style>\n",
       "<table border=\"1\" class=\"dataframe\">\n",
       "  <thead>\n",
       "    <tr style=\"text-align: right;\">\n",
       "      <th></th>\n",
       "      <th>Length</th>\n",
       "      <th>Diameter</th>\n",
       "      <th>Height</th>\n",
       "      <th>Whole weight</th>\n",
       "      <th>Shucked weight</th>\n",
       "      <th>Viscera weight</th>\n",
       "      <th>Shell weight</th>\n",
       "      <th>Rings</th>\n",
       "    </tr>\n",
       "  </thead>\n",
       "  <tbody>\n",
       "    <tr>\n",
       "      <th>count</th>\n",
       "      <td>4177.000000</td>\n",
       "      <td>4177.000000</td>\n",
       "      <td>4177.000000</td>\n",
       "      <td>4177.000000</td>\n",
       "      <td>4177.000000</td>\n",
       "      <td>4177.000000</td>\n",
       "      <td>4177.000000</td>\n",
       "      <td>4177.000000</td>\n",
       "    </tr>\n",
       "    <tr>\n",
       "      <th>mean</th>\n",
       "      <td>0.523992</td>\n",
       "      <td>0.407881</td>\n",
       "      <td>0.139516</td>\n",
       "      <td>0.828742</td>\n",
       "      <td>0.359367</td>\n",
       "      <td>0.180594</td>\n",
       "      <td>0.238831</td>\n",
       "      <td>9.933684</td>\n",
       "    </tr>\n",
       "    <tr>\n",
       "      <th>std</th>\n",
       "      <td>0.120093</td>\n",
       "      <td>0.099240</td>\n",
       "      <td>0.041827</td>\n",
       "      <td>0.490389</td>\n",
       "      <td>0.221963</td>\n",
       "      <td>0.109614</td>\n",
       "      <td>0.139203</td>\n",
       "      <td>3.224169</td>\n",
       "    </tr>\n",
       "    <tr>\n",
       "      <th>min</th>\n",
       "      <td>0.075000</td>\n",
       "      <td>0.055000</td>\n",
       "      <td>0.000000</td>\n",
       "      <td>0.002000</td>\n",
       "      <td>0.001000</td>\n",
       "      <td>0.000500</td>\n",
       "      <td>0.001500</td>\n",
       "      <td>1.000000</td>\n",
       "    </tr>\n",
       "    <tr>\n",
       "      <th>25%</th>\n",
       "      <td>0.450000</td>\n",
       "      <td>0.350000</td>\n",
       "      <td>0.115000</td>\n",
       "      <td>0.441500</td>\n",
       "      <td>0.186000</td>\n",
       "      <td>0.093500</td>\n",
       "      <td>0.130000</td>\n",
       "      <td>8.000000</td>\n",
       "    </tr>\n",
       "    <tr>\n",
       "      <th>50%</th>\n",
       "      <td>0.545000</td>\n",
       "      <td>0.425000</td>\n",
       "      <td>0.140000</td>\n",
       "      <td>0.799500</td>\n",
       "      <td>0.336000</td>\n",
       "      <td>0.171000</td>\n",
       "      <td>0.234000</td>\n",
       "      <td>9.000000</td>\n",
       "    </tr>\n",
       "    <tr>\n",
       "      <th>75%</th>\n",
       "      <td>0.615000</td>\n",
       "      <td>0.480000</td>\n",
       "      <td>0.165000</td>\n",
       "      <td>1.153000</td>\n",
       "      <td>0.502000</td>\n",
       "      <td>0.253000</td>\n",
       "      <td>0.329000</td>\n",
       "      <td>11.000000</td>\n",
       "    </tr>\n",
       "    <tr>\n",
       "      <th>max</th>\n",
       "      <td>0.815000</td>\n",
       "      <td>0.650000</td>\n",
       "      <td>1.130000</td>\n",
       "      <td>2.825500</td>\n",
       "      <td>1.488000</td>\n",
       "      <td>0.760000</td>\n",
       "      <td>1.005000</td>\n",
       "      <td>29.000000</td>\n",
       "    </tr>\n",
       "  </tbody>\n",
       "</table>\n",
       "</div>"
      ],
      "text/plain": [
       "            Length     Diameter       Height  Whole weight  Shucked weight  \\\n",
       "count  4177.000000  4177.000000  4177.000000   4177.000000     4177.000000   \n",
       "mean      0.523992     0.407881     0.139516      0.828742        0.359367   \n",
       "std       0.120093     0.099240     0.041827      0.490389        0.221963   \n",
       "min       0.075000     0.055000     0.000000      0.002000        0.001000   \n",
       "25%       0.450000     0.350000     0.115000      0.441500        0.186000   \n",
       "50%       0.545000     0.425000     0.140000      0.799500        0.336000   \n",
       "75%       0.615000     0.480000     0.165000      1.153000        0.502000   \n",
       "max       0.815000     0.650000     1.130000      2.825500        1.488000   \n",
       "\n",
       "       Viscera weight  Shell weight        Rings  \n",
       "count     4177.000000   4177.000000  4177.000000  \n",
       "mean         0.180594      0.238831     9.933684  \n",
       "std          0.109614      0.139203     3.224169  \n",
       "min          0.000500      0.001500     1.000000  \n",
       "25%          0.093500      0.130000     8.000000  \n",
       "50%          0.171000      0.234000     9.000000  \n",
       "75%          0.253000      0.329000    11.000000  \n",
       "max          0.760000      1.005000    29.000000  "
      ]
     },
     "execution_count": 565,
     "metadata": {},
     "output_type": "execute_result"
    }
   ],
   "source": [
    "df.describe()"
   ]
  },
  {
   "cell_type": "code",
   "execution_count": null,
   "metadata": {},
   "outputs": [
    {
     "data": {
      "text/plain": [
       "Sex               False\n",
       "Length            False\n",
       "Diameter          False\n",
       "Height            False\n",
       "Whole weight      False\n",
       "Shucked weight    False\n",
       "Viscera weight    False\n",
       "Shell weight      False\n",
       "Rings             False\n",
       "dtype: bool"
      ]
     },
     "execution_count": 566,
     "metadata": {},
     "output_type": "execute_result"
    }
   ],
   "source": [
    "df.isnull().any()"
   ]
  },
  {
   "cell_type": "markdown",
   "metadata": {},
   "source": [
    "Handle the missing values"
   ]
  },
  {
   "cell_type": "code",
   "execution_count": null,
   "metadata": {},
   "outputs": [
    {
     "data": {
      "text/plain": [
       "0.5239920995930094"
      ]
     },
     "execution_count": 567,
     "metadata": {},
     "output_type": "execute_result"
    }
   ],
   "source": [
    "df['Length'].mean()"
   ]
  },
  {
   "cell_type": "code",
   "execution_count": null,
   "metadata": {},
   "outputs": [
    {
     "data": {
      "text/plain": [
       "0.055"
      ]
     },
     "execution_count": 568,
     "metadata": {},
     "output_type": "execute_result"
    }
   ],
   "source": [
    "df['Diameter'].min()"
   ]
  },
  {
   "cell_type": "code",
   "execution_count": null,
   "metadata": {},
   "outputs": [
    {
     "data": {
      "text/plain": [
       "0.15"
      ]
     },
     "execution_count": 569,
     "metadata": {},
     "output_type": "execute_result"
    }
   ],
   "source": [
    "df['Height'].mode()[0]"
   ]
  },
  {
   "cell_type": "code",
   "execution_count": null,
   "metadata": {},
   "outputs": [
    {
     "data": {
      "text/plain": [
       "Sex               0\n",
       "Length            0\n",
       "Diameter          0\n",
       "Height            0\n",
       "Whole weight      0\n",
       "Shucked weight    0\n",
       "Viscera weight    0\n",
       "Shell weight      0\n",
       "Rings             0\n",
       "dtype: int64"
      ]
     },
     "execution_count": 570,
     "metadata": {},
     "output_type": "execute_result"
    }
   ],
   "source": [
    "df.isnull().sum()\n"
   ]
  },
  {
   "cell_type": "code",
   "execution_count": null,
   "metadata": {},
   "outputs": [
    {
     "data": {
      "text/plain": [
       "0.45"
      ]
     },
     "execution_count": 571,
     "metadata": {},
     "output_type": "execute_result"
    }
   ],
   "source": [
    "df['Diameter'].mode()[0]"
   ]
  },
  {
   "cell_type": "markdown",
   "metadata": {},
   "source": [
    "Outliers and Replace Outliers"
   ]
  },
  {
   "cell_type": "code",
   "execution_count": null,
   "metadata": {},
   "outputs": [
    {
     "data": {
      "text/plain": [
       "Length           -0.639873\n",
       "Diameter         -0.609198\n",
       "Height            3.128817\n",
       "Whole weight      0.530959\n",
       "Shucked weight    0.719098\n",
       "Viscera weight    0.591852\n",
       "Shell weight      0.620927\n",
       "Rings             1.114102\n",
       "dtype: float64"
      ]
     },
     "execution_count": 572,
     "metadata": {},
     "output_type": "execute_result"
    }
   ],
   "source": [
    "df.skew()"
   ]
  },
  {
   "cell_type": "code",
   "execution_count": null,
   "metadata": {},
   "outputs": [
    {
     "data": {
      "text/plain": [
       "<AxesSubplot: >"
      ]
     },
     "execution_count": 573,
     "metadata": {},
     "output_type": "execute_result"
    },
    {
     "data": {
      "image/png": "[encoded data removed]",
      "text/plain": [
       "<Figure size 640x480 with 1 Axes>"
      ]
     },
     "metadata": {},
     "output_type": "display_data"
    }
   ],
   "source": [
    "sns.boxplot(df[\"Height\"])"
   ]
  },
  {
   "cell_type": "code",
   "execution_count": null,
   "metadata": {},
   "outputs": [
    {
     "data": {
      "text/plain": [
       "<AxesSubplot: >"
      ]
     },
     "execution_count": 574,
     "metadata": {},
     "output_type": "execute_result"
    },
    {
     "data": {
      "image/png": "[encoded data removed]",
      "text/plain": [
       "<Figure size 640x480 with 1 Axes>"
      ]
     },
     "metadata": {},
     "output_type": "display_data"
    }
   ],
   "source": [
    "sns.boxplot(df[\"Diameter\"])"
   ]
  },
  {
   "cell_type": "code",
   "execution_count": null,
   "metadata": {},
   "outputs": [
    {
     "data": {
      "text/plain": [
       "<AxesSubplot: >"
      ]
     },
     "execution_count": 575,
     "metadata": {},
     "output_type": "execute_result"
    },
    {
     "data": {
      "image/png": "[encoded data removed]",
      "text/plain": [
       "<Figure size 640x480 with 1 Axes>"
      ]
     },
     "metadata": {},
     "output_type": "display_data"
    }
   ],
   "source": [
    "sns.boxplot(df[\"Length\"])"
   ]
  },
  {
   "cell_type": "code",
   "execution_count": null,
   "metadata": {},
   "outputs": [
    {
     "data": {
      "text/plain": [
       "<AxesSubplot: xlabel='Diameter', ylabel='Density'>"
      ]
     },
     "execution_count": 576,
     "metadata": {},
     "output_type": "execute_result"
    },
    {
     "data": {
      "image/png": "[encoded data removed]",
      "text/plain": [
       "<Figure size 640x480 with 1 Axes>"
      ]
     },
     "metadata": {},
     "output_type": "display_data"
    }
   ],
   "source": [
    "sns.kdeplot(df[\"Diameter\"])"
   ]
  },
  {
   "cell_type": "code",
   "execution_count": null,
   "metadata": {},
   "outputs": [
    {
     "data": {
      "text/plain": [
       "<AxesSubplot: xlabel='Shucked weight', ylabel='Density'>"
      ]
     },
     "execution_count": 577,
     "metadata": {},
     "output_type": "execute_result"
    },
    {
     "data": {
      "image/png": "[encoded data removed]",
      "text/plain": [
       "<Figure size 640x480 with 1 Axes>"
      ]
     },
     "metadata": {},
     "output_type": "display_data"
    }
   ],
   "source": [
    "sns.kdeplot(df[\"Shucked weight\"])"
   ]
  },
  {
   "cell_type": "code",
   "execution_count": null,
   "metadata": {},
   "outputs": [
    {
     "data": {
      "text/plain": [
       "0.35"
      ]
     },
     "execution_count": 578,
     "metadata": {},
     "output_type": "execute_result"
    }
   ],
   "source": [
    "q1 = df[\"Diameter\"].describe()[\"25%\"]\n",
    "q1"
   ]
  },
  {
   "cell_type": "code",
   "execution_count": null,
   "metadata": {},
   "outputs": [
    {
     "data": {
      "text/plain": [
       "0.48"
      ]
     },
     "execution_count": 579,
     "metadata": {},
     "output_type": "execute_result"
    }
   ],
   "source": [
    "q3 = df[\"Diameter\"].describe()[\"75%\"]\n",
    "q3"
   ]
  },
  {
   "cell_type": "code",
   "execution_count": null,
   "metadata": {},
   "outputs": [
    {
     "data": {
      "text/plain": [
       "0.13"
      ]
     },
     "execution_count": 580,
     "metadata": {},
     "output_type": "execute_result"
    }
   ],
   "source": [
    "iqr = q3-q1\n",
    "iqr"
   ]
  },
  {
   "cell_type": "code",
   "execution_count": null,
   "metadata": {},
   "outputs": [],
   "source": [
    "l_b = q1-(1.5*iqr)\n",
    "u_b = q3+(1.5*iqr)"
   ]
  },
  {
   "cell_type": "code",
   "execution_count": null,
   "metadata": {},
   "outputs": [
    {
     "data": {
      "text/plain": [
       "0.15499999999999997"
      ]
     },
     "execution_count": 582,
     "metadata": {},
     "output_type": "execute_result"
    }
   ],
   "source": [
    "l_b"
   ]
  },
  {
   "cell_type": "code",
   "execution_count": null,
   "metadata": {},
   "outputs": [
    {
     "data": {
      "text/plain": [
       "0.675"
      ]
     },
     "execution_count": 583,
     "metadata": {},
     "output_type": "execute_result"
    }
   ],
   "source": [
    "u_b"
   ]
  },
  {
   "cell_type": "markdown",
   "metadata": {},
   "source": [
    "Replace the Outliers"
   ]
  },
  {
   "cell_type": "code",
   "execution_count": null,
   "metadata": {},
   "outputs": [],
   "source": [
    "outlier_list = list(df[df[\"Diameter\"]>l_b][\"Diameter\"])"
   ]
  },
  {
   "cell_type": "code",
   "execution_count": null,
   "metadata": {},
   "outputs": [
    {
     "data": {
      "text/plain": [
       "[0.365,\n",
       " 0.265,\n",
       " 0.42,\n",
       " 0.365,\n",
       " 0.255,\n",
       " 0.3,\n",
       " 0.415,\n",
       " 0.425,\n",
       " 0.37,\n",
       " 0.44,\n",
       " 0.38,\n",
       " 0.35,\n",
       " 0.38,\n",
       " 0.405,\n",
       " 0.355,\n",
       " 0.4,\n",
       " 0.28,\n",
       " 0.34,\n",
       " 0.295,\n",
       " 0.32,\n",
       " 0.28,\n",
       " 0.275,\n",
       " 0.44,\n",
       " 0.415,\n",
       " 0.48,\n",
       " 0.44,\n",
       " 0.45,\n",
       " 0.445,\n",
       " 0.475,\n",
       " 0.425,\n",
       " 0.47,\n",
       " 0.56,\n",
       " 0.525,\n",
       " 0.55,\n",
       " 0.55,\n",
       " 0.355,\n",
       " 0.475,\n",
       " 0.355,\n",
       " 0.445,\n",
       " 0.29,\n",
       " 0.335,\n",
       " 0.425,\n",
       " 0.175,\n",
       " 0.295,\n",
       " 0.37,\n",
       " 0.375,\n",
       " 0.245,\n",
       " 0.425,\n",
       " 0.41,\n",
       " 0.32,\n",
       " 0.36,\n",
       " 0.36,\n",
       " 0.31,\n",
       " 0.4,\n",
       " 0.35,\n",
       " 0.385,\n",
       " 0.19,\n",
       " 0.4,\n",
       " 0.345,\n",
       " 0.405,\n",
       " 0.41,\n",
       " 0.325,\n",
       " 0.4,\n",
       " 0.355,\n",
       " 0.44,\n",
       " 0.495,\n",
       " 0.39,\n",
       " 0.235,\n",
       " 0.425,\n",
       " 0.32,\n",
       " 0.475,\n",
       " 0.48,\n",
       " 0.45,\n",
       " 0.475,\n",
       " 0.475,\n",
       " 0.47,\n",
       " 0.425,\n",
       " 0.475,\n",
       " 0.445,\n",
       " 0.51,\n",
       " 0.425,\n",
       " 0.475,\n",
       " 0.45,\n",
       " 0.465,\n",
       " 0.465,\n",
       " 0.44,\n",
       " 0.355,\n",
       " 0.45,\n",
       " 0.425,\n",
       " 0.44,\n",
       " 0.465,\n",
       " 0.495,\n",
       " 0.56,\n",
       " 0.535,\n",
       " 0.435,\n",
       " 0.375,\n",
       " 0.37,\n",
       " 0.375,\n",
       " 0.265,\n",
       " 0.435,\n",
       " 0.435,\n",
       " 0.415,\n",
       " 0.47,\n",
       " 0.41,\n",
       " 0.43,\n",
       " 0.4,\n",
       " 0.39,\n",
       " 0.395,\n",
       " 0.395,\n",
       " 0.36,\n",
       " 0.32,\n",
       " 0.35,\n",
       " 0.41,\n",
       " 0.415,\n",
       " 0.375,\n",
       " 0.34,\n",
       " 0.43,\n",
       " 0.305,\n",
       " 0.365,\n",
       " 0.295,\n",
       " 0.425,\n",
       " 0.265,\n",
       " 0.28,\n",
       " 0.195,\n",
       " 0.275,\n",
       " 0.29,\n",
       " 0.535,\n",
       " 0.54,\n",
       " 0.48,\n",
       " 0.35,\n",
       " 0.26,\n",
       " 0.26,\n",
       " 0.2,\n",
       " 0.33,\n",
       " 0.23,\n",
       " 0.255,\n",
       " 0.325,\n",
       " 0.285,\n",
       " 0.445,\n",
       " 0.45,\n",
       " 0.52,\n",
       " 0.455,\n",
       " 0.375,\n",
       " 0.38,\n",
       " 0.35,\n",
       " 0.205,\n",
       " 0.475,\n",
       " 0.5,\n",
       " 0.515,\n",
       " 0.485,\n",
       " 0.45,\n",
       " 0.405,\n",
       " 0.46,\n",
       " 0.485,\n",
       " 0.455,\n",
       " 0.46,\n",
       " 0.465,\n",
       " 0.485,\n",
       " 0.485,\n",
       " 0.56,\n",
       " 0.545,\n",
       " 0.57,\n",
       " 0.575,\n",
       " 0.57,\n",
       " 0.56,\n",
       " 0.515,\n",
       " 0.55,\n",
       " 0.395,\n",
       " 0.435,\n",
       " 0.405,\n",
       " 0.16,\n",
       " 0.26,\n",
       " 0.21,\n",
       " 0.245,\n",
       " 0.16,\n",
       " 0.475,\n",
       " 0.48,\n",
       " 0.51,\n",
       " 0.45,\n",
       " 0.475,\n",
       " 0.51,\n",
       " 0.49,\n",
       " 0.48,\n",
       " 0.5,\n",
       " 0.48,\n",
       " 0.46,\n",
       " 0.48,\n",
       " 0.485,\n",
       " 0.45,\n",
       " 0.275,\n",
       " 0.4,\n",
       " 0.405,\n",
       " 0.41,\n",
       " 0.5,\n",
       " 0.45,\n",
       " 0.46,\n",
       " 0.345,\n",
       " 0.4,\n",
       " 0.4,\n",
       " 0.435,\n",
       " 0.335,\n",
       " 0.34,\n",
       " 0.3,\n",
       " 0.34,\n",
       " 0.415,\n",
       " 0.28,\n",
       " 0.365,\n",
       " 0.25,\n",
       " 0.325,\n",
       " 0.405,\n",
       " 0.395,\n",
       " 0.405,\n",
       " 0.35,\n",
       " 0.3,\n",
       " 0.36,\n",
       " 0.305,\n",
       " 0.325,\n",
       " 0.35,\n",
       " 0.375,\n",
       " 0.355,\n",
       " 0.38,\n",
       " 0.37,\n",
       " 0.29,\n",
       " 0.27,\n",
       " 0.465,\n",
       " 0.415,\n",
       " 0.445,\n",
       " 0.44,\n",
       " 0.505,\n",
       " 0.215,\n",
       " 0.35,\n",
       " 0.225,\n",
       " 0.425,\n",
       " 0.2,\n",
       " 0.175,\n",
       " 0.23,\n",
       " 0.255,\n",
       " 0.26,\n",
       " 0.245,\n",
       " 0.275,\n",
       " 0.245,\n",
       " 0.27,\n",
       " 0.25,\n",
       " 0.47,\n",
       " 0.455,\n",
       " 0.46,\n",
       " 0.495,\n",
       " 0.45,\n",
       " 0.45,\n",
       " 0.46,\n",
       " 0.505,\n",
       " 0.475,\n",
       " 0.475,\n",
       " 0.44,\n",
       " 0.42,\n",
       " 0.195,\n",
       " 0.2,\n",
       " 0.38,\n",
       " 0.45,\n",
       " 0.275,\n",
       " 0.39,\n",
       " 0.36,\n",
       " 0.525,\n",
       " 0.5,\n",
       " 0.485,\n",
       " 0.505,\n",
       " 0.515,\n",
       " 0.54,\n",
       " 0.53,\n",
       " 0.5,\n",
       " 0.525,\n",
       " 0.425,\n",
       " 0.415,\n",
       " 0.285,\n",
       " 0.355,\n",
       " 0.395,\n",
       " 0.38,\n",
       " 0.415,\n",
       " 0.435,\n",
       " 0.4,\n",
       " 0.355,\n",
       " 0.435,\n",
       " 0.435,\n",
       " 0.505,\n",
       " 0.475,\n",
       " 0.455,\n",
       " 0.495,\n",
       " 0.215,\n",
       " 0.205,\n",
       " 0.21,\n",
       " 0.395,\n",
       " 0.28,\n",
       " 0.305,\n",
       " 0.435,\n",
       " 0.28,\n",
       " 0.27,\n",
       " 0.36,\n",
       " 0.515,\n",
       " 0.41,\n",
       " 0.435,\n",
       " 0.485,\n",
       " 0.44,\n",
       " 0.455,\n",
       " 0.47,\n",
       " 0.485,\n",
       " 0.355,\n",
       " 0.535,\n",
       " 0.35,\n",
       " 0.455,\n",
       " 0.255,\n",
       " 0.21,\n",
       " 0.31,\n",
       " 0.205,\n",
       " 0.265,\n",
       " 0.275,\n",
       " 0.255,\n",
       " 0.4,\n",
       " 0.295,\n",
       " 0.28,\n",
       " 0.38,\n",
       " 0.325,\n",
       " 0.22,\n",
       " 0.175,\n",
       " 0.6,\n",
       " 0.465,\n",
       " 0.475,\n",
       " 0.45,\n",
       " 0.475,\n",
       " 0.45,\n",
       " 0.455,\n",
       " 0.51,\n",
       " 0.465,\n",
       " 0.375,\n",
       " 0.425,\n",
       " 0.39,\n",
       " 0.42,\n",
       " 0.26,\n",
       " 0.305,\n",
       " 0.48,\n",
       " 0.495,\n",
       " 0.45,\n",
       " 0.46,\n",
       " 0.455,\n",
       " 0.515,\n",
       " 0.58,\n",
       " 0.525,\n",
       " 0.525,\n",
       " 0.585,\n",
       " 0.545,\n",
       " 0.49,\n",
       " 0.465,\n",
       " 0.525,\n",
       " 0.48,\n",
       " 0.5,\n",
       " 0.515,\n",
       " 0.465,\n",
       " 0.455,\n",
       " 0.49,\n",
       " 0.56,\n",
       " 0.545,\n",
       " 0.565,\n",
       " 0.58,\n",
       " 0.575,\n",
       " 0.52,\n",
       " 0.545,\n",
       " 0.49,\n",
       " 0.45,\n",
       " 0.465,\n",
       " 0.495,\n",
       " 0.47,\n",
       " 0.42,\n",
       " 0.4,\n",
       " 0.375,\n",
       " 0.425,\n",
       " 0.37,\n",
       " 0.42,\n",
       " 0.38,\n",
       " 0.42,\n",
       " 0.375,\n",
       " 0.325,\n",
       " 0.375,\n",
       " 0.375,\n",
       " 0.295,\n",
       " 0.275,\n",
       " 0.31,\n",
       " 0.395,\n",
       " 0.38,\n",
       " 0.44,\n",
       " 0.455,\n",
       " 0.365,\n",
       " 0.455,\n",
       " 0.325,\n",
       " 0.415,\n",
       " 0.345,\n",
       " 0.44,\n",
       " 0.355,\n",
       " 0.485,\n",
       " 0.45,\n",
       " 0.44,\n",
       " 0.5,\n",
       " 0.475,\n",
       " 0.46,\n",
       " 0.44,\n",
       " 0.495,\n",
       " 0.47,\n",
       " 0.5,\n",
       " 0.515,\n",
       " 0.5,\n",
       " 0.41,\n",
       " 0.54,\n",
       " 0.38,\n",
       " 0.39,\n",
       " 0.225,\n",
       " 0.2,\n",
       " 0.45,\n",
       " 0.485,\n",
       " 0.5,\n",
       " 0.455,\n",
       " 0.45,\n",
       " 0.45,\n",
       " 0.47,\n",
       " 0.455,\n",
       " 0.42,\n",
       " 0.345,\n",
       " 0.41,\n",
       " 0.275,\n",
       " 0.305,\n",
       " 0.3,\n",
       " 0.415,\n",
       " 0.275,\n",
       " 0.26,\n",
       " 0.425,\n",
       " 0.295,\n",
       " 0.325,\n",
       " 0.455,\n",
       " 0.435,\n",
       " 0.455,\n",
       " 0.5,\n",
       " 0.455,\n",
       " 0.565,\n",
       " 0.535,\n",
       " 0.555,\n",
       " 0.49,\n",
       " 0.55,\n",
       " 0.47,\n",
       " 0.54,\n",
       " 0.28,\n",
       " 0.31,\n",
       " 0.41,\n",
       " 0.285,\n",
       " 0.465,\n",
       " 0.185,\n",
       " 0.165,\n",
       " 0.195,\n",
       " 0.55,\n",
       " 0.53,\n",
       " 0.55,\n",
       " 0.555,\n",
       " 0.44,\n",
       " 0.405,\n",
       " 0.34,\n",
       " 0.405,\n",
       " 0.415,\n",
       " 0.415,\n",
       " 0.35,\n",
       " 0.54,\n",
       " 0.59,\n",
       " 0.545,\n",
       " 0.585,\n",
       " 0.4,\n",
       " 0.465,\n",
       " 0.46,\n",
       " 0.48,\n",
       " 0.465,\n",
       " 0.45,\n",
       " 0.515,\n",
       " 0.42,\n",
       " 0.455,\n",
       " 0.455,\n",
       " 0.46,\n",
       " 0.51,\n",
       " 0.53,\n",
       " 0.5,\n",
       " 0.5,\n",
       " 0.52,\n",
       " 0.485,\n",
       " 0.525,\n",
       " 0.45,\n",
       " 0.44,\n",
       " 0.52,\n",
       " 0.47,\n",
       " 0.505,\n",
       " 0.485,\n",
       " 0.47,\n",
       " 0.46,\n",
       " 0.455,\n",
       " 0.435,\n",
       " 0.445,\n",
       " 0.53,\n",
       " 0.35,\n",
       " 0.38,\n",
       " 0.22,\n",
       " 0.195,\n",
       " 0.195,\n",
       " 0.29,\n",
       " 0.2,\n",
       " 0.23,\n",
       " 0.25,\n",
       " 0.27,\n",
       " 0.26,\n",
       " 0.16,\n",
       " 0.445,\n",
       " 0.45,\n",
       " 0.3,\n",
       " 0.42,\n",
       " 0.355,\n",
       " 0.37,\n",
       " 0.335,\n",
       " 0.37,\n",
       " 0.38,\n",
       " 0.405,\n",
       " 0.23,\n",
       " 0.205,\n",
       " 0.29,\n",
       " 0.375,\n",
       " 0.355,\n",
       " 0.325,\n",
       " 0.35,\n",
       " 0.29,\n",
       " 0.245,\n",
       " 0.195,\n",
       " 0.155,\n",
       " 0.45,\n",
       " 0.425,\n",
       " 0.515,\n",
       " 0.49,\n",
       " 0.44,\n",
       " 0.37,\n",
       " 0.39,\n",
       " 0.385,\n",
       " 0.405,\n",
       " 0.5,\n",
       " 0.53,\n",
       " 0.4,\n",
       " 0.34,\n",
       " 0.4,\n",
       " 0.35,\n",
       " 0.415,\n",
       " 0.355,\n",
       " 0.255,\n",
       " 0.355,\n",
       " 0.33,\n",
       " 0.21,\n",
       " 0.32,\n",
       " 0.35,\n",
       " 0.345,\n",
       " 0.455,\n",
       " 0.44,\n",
       " 0.475,\n",
       " 0.475,\n",
       " 0.425,\n",
       " 0.435,\n",
       " 0.445,\n",
       " 0.48,\n",
       " 0.49,\n",
       " 0.425,\n",
       " 0.525,\n",
       " 0.355,\n",
       " 0.305,\n",
       " 0.39,\n",
       " 0.425,\n",
       " 0.41,\n",
       " 0.335,\n",
       " 0.31,\n",
       " 0.4,\n",
       " 0.29,\n",
       " 0.41,\n",
       " 0.52,\n",
       " 0.42,\n",
       " 0.455,\n",
       " 0.43,\n",
       " 0.47,\n",
       " 0.495,\n",
       " 0.445,\n",
       " 0.42,\n",
       " 0.315,\n",
       " 0.3,\n",
       " 0.345,\n",
       " 0.39,\n",
       " 0.345,\n",
       " 0.27,\n",
       " 0.37,\n",
       " 0.285,\n",
       " 0.265,\n",
       " 0.345,\n",
       " 0.24,\n",
       " 0.37,\n",
       " 0.35,\n",
       " 0.345,\n",
       " 0.355,\n",
       " 0.24,\n",
       " 0.225,\n",
       " 0.17,\n",
       " 0.255,\n",
       " 0.38,\n",
       " 0.385,\n",
       " 0.385,\n",
       " 0.36,\n",
       " 0.405,\n",
       " 0.335,\n",
       " 0.305,\n",
       " 0.415,\n",
       " 0.265,\n",
       " 0.365,\n",
       " 0.34,\n",
       " 0.365,\n",
       " 0.36,\n",
       " 0.295,\n",
       " 0.265,\n",
       " 0.235,\n",
       " 0.26,\n",
       " 0.345,\n",
       " 0.4,\n",
       " 0.24,\n",
       " 0.485,\n",
       " 0.45,\n",
       " 0.255,\n",
       " 0.34,\n",
       " 0.33,\n",
       " 0.215,\n",
       " 0.375,\n",
       " 0.35,\n",
       " 0.36,\n",
       " 0.18,\n",
       " 0.245,\n",
       " 0.35,\n",
       " 0.225,\n",
       " 0.28,\n",
       " 0.215,\n",
       " 0.435,\n",
       " 0.515,\n",
       " 0.49,\n",
       " 0.475,\n",
       " 0.525,\n",
       " 0.45,\n",
       " 0.34,\n",
       " 0.305,\n",
       " 0.355,\n",
       " 0.295,\n",
       " 0.35,\n",
       " 0.38,\n",
       " 0.425,\n",
       " 0.35,\n",
       " 0.385,\n",
       " 0.38,\n",
       " 0.41,\n",
       " 0.39,\n",
       " 0.385,\n",
       " 0.395,\n",
       " 0.415,\n",
       " 0.375,\n",
       " 0.38,\n",
       " 0.275,\n",
       " 0.275,\n",
       " 0.37,\n",
       " 0.325,\n",
       " 0.405,\n",
       " 0.4,\n",
       " 0.44,\n",
       " 0.4,\n",
       " 0.405,\n",
       " 0.4,\n",
       " 0.44,\n",
       " 0.375,\n",
       " 0.19,\n",
       " 0.325,\n",
       " 0.29,\n",
       " 0.23,\n",
       " 0.205,\n",
       " 0.335,\n",
       " 0.315,\n",
       " 0.285,\n",
       " 0.385,\n",
       " 0.33,\n",
       " 0.295,\n",
       " 0.3,\n",
       " 0.325,\n",
       " 0.25,\n",
       " 0.26,\n",
       " 0.295,\n",
       " 0.225,\n",
       " 0.25,\n",
       " 0.3,\n",
       " 0.205,\n",
       " 0.265,\n",
       " 0.255,\n",
       " 0.2,\n",
       " 0.205,\n",
       " 0.19,\n",
       " 0.455,\n",
       " 0.44,\n",
       " 0.41,\n",
       " 0.36,\n",
       " 0.36,\n",
       " 0.305,\n",
       " 0.375,\n",
       " 0.4,\n",
       " 0.4,\n",
       " 0.4,\n",
       " 0.42,\n",
       " 0.4,\n",
       " 0.38,\n",
       " 0.425,\n",
       " 0.39,\n",
       " 0.385,\n",
       " 0.405,\n",
       " 0.41,\n",
       " 0.345,\n",
       " 0.44,\n",
       " 0.265,\n",
       " 0.42,\n",
       " 0.405,\n",
       " 0.415,\n",
       " 0.42,\n",
       " 0.52,\n",
       " 0.385,\n",
       " 0.42,\n",
       " 0.515,\n",
       " 0.39,\n",
       " 0.355,\n",
       " 0.46,\n",
       " 0.455,\n",
       " 0.515,\n",
       " 0.505,\n",
       " 0.525,\n",
       " 0.495,\n",
       " 0.44,\n",
       " 0.43,\n",
       " 0.405,\n",
       " 0.44,\n",
       " 0.44,\n",
       " 0.51,\n",
       " 0.47,\n",
       " 0.45,\n",
       " 0.445,\n",
       " 0.27,\n",
       " 0.43,\n",
       " 0.425,\n",
       " 0.455,\n",
       " 0.375,\n",
       " 0.275,\n",
       " 0.34,\n",
       " 0.38,\n",
       " 0.41,\n",
       " 0.385,\n",
       " 0.38,\n",
       " 0.35,\n",
       " 0.36,\n",
       " 0.41,\n",
       " 0.385,\n",
       " 0.435,\n",
       " 0.28,\n",
       " 0.155,\n",
       " 0.415,\n",
       " 0.39,\n",
       " 0.385,\n",
       " 0.39,\n",
       " 0.465,\n",
       " 0.465,\n",
       " 0.375,\n",
       " 0.37,\n",
       " 0.45,\n",
       " 0.465,\n",
       " 0.405,\n",
       " 0.41,\n",
       " 0.335,\n",
       " 0.42,\n",
       " 0.345,\n",
       " 0.34,\n",
       " 0.335,\n",
       " 0.33,\n",
       " 0.275,\n",
       " 0.38,\n",
       " 0.305,\n",
       " 0.205,\n",
       " 0.4,\n",
       " 0.34,\n",
       " 0.41,\n",
       " 0.405,\n",
       " 0.365,\n",
       " 0.175,\n",
       " 0.185,\n",
       " 0.24,\n",
       " 0.25,\n",
       " 0.25,\n",
       " 0.27,\n",
       " 0.25,\n",
       " 0.3,\n",
       " 0.275,\n",
       " 0.275,\n",
       " 0.275,\n",
       " 0.29,\n",
       " 0.3,\n",
       " 0.29,\n",
       " 0.29,\n",
       " 0.31,\n",
       " 0.325,\n",
       " 0.32,\n",
       " 0.305,\n",
       " 0.325,\n",
       " 0.365,\n",
       " 0.335,\n",
       " 0.325,\n",
       " 0.35,\n",
       " 0.375,\n",
       " 0.365,\n",
       " 0.365,\n",
       " 0.355,\n",
       " 0.385,\n",
       " 0.41,\n",
       " 0.4,\n",
       " 0.44,\n",
       " 0.395,\n",
       " 0.405,\n",
       " 0.42,\n",
       " 0.44,\n",
       " 0.43,\n",
       " 0.45,\n",
       " 0.45,\n",
       " 0.435,\n",
       " 0.45,\n",
       " 0.455,\n",
       " 0.435,\n",
       " 0.465,\n",
       " 0.475,\n",
       " 0.46,\n",
       " 0.48,\n",
       " 0.48,\n",
       " 0.475,\n",
       " 0.465,\n",
       " 0.475,\n",
       " 0.475,\n",
       " 0.495,\n",
       " 0.475,\n",
       " 0.455,\n",
       " 0.5,\n",
       " 0.52,\n",
       " 0.51,\n",
       " 0.505,\n",
       " 0.505,\n",
       " 0.5,\n",
       " 0.49,\n",
       " 0.49,\n",
       " 0.505,\n",
       " 0.51,\n",
       " 0.5,\n",
       " 0.485,\n",
       " 0.51,\n",
       " 0.525,\n",
       " 0.52,\n",
       " 0.58,\n",
       " 0.53,\n",
       " 0.52,\n",
       " 0.585,\n",
       " 0.525,\n",
       " 0.525,\n",
       " 0.56,\n",
       " 0.54,\n",
       " 0.56,\n",
       " 0.595,\n",
       " 0.175,\n",
       " 0.175,\n",
       " 0.19,\n",
       " 0.18,\n",
       " 0.195,\n",
       " 0.23,\n",
       " 0.235,\n",
       " 0.23,\n",
       " 0.22,\n",
       " 0.235,\n",
       " 0.23,\n",
       " 0.24,\n",
       " 0.24,\n",
       " 0.265,\n",
       " 0.25,\n",
       " 0.25,\n",
       " 0.25,\n",
       " 0.25,\n",
       " 0.265,\n",
       " 0.29,\n",
       " 0.28,\n",
       " 0.28,\n",
       " 0.265,\n",
       " 0.31,\n",
       " 0.305,\n",
       " 0.31,\n",
       " 0.33,\n",
       " 0.32,\n",
       " 0.315,\n",
       " 0.34,\n",
       " 0.315,\n",
       " 0.325,\n",
       " 0.325,\n",
       " 0.325,\n",
       " 0.34,\n",
       " 0.345,\n",
       " 0.325,\n",
       " 0.335,\n",
       " 0.35,\n",
       " 0.36,\n",
       " 0.355,\n",
       " 0.345,\n",
       " 0.335,\n",
       " 0.355,\n",
       " 0.375,\n",
       " 0.36,\n",
       " 0.345,\n",
       " 0.365,\n",
       " 0.37,\n",
       " 0.345,\n",
       " 0.35,\n",
       " 0.365,\n",
       " 0.365,\n",
       " 0.37,\n",
       " 0.36,\n",
       " 0.375,\n",
       " 0.385,\n",
       " 0.36,\n",
       " 0.365,\n",
       " 0.37,\n",
       " 0.385,\n",
       " 0.395,\n",
       " 0.4,\n",
       " 0.39,\n",
       " 0.385,\n",
       " 0.385,\n",
       " 0.4,\n",
       " 0.39,\n",
       " 0.39,\n",
       " 0.41,\n",
       " 0.355,\n",
       " 0.39,\n",
       " 0.375,\n",
       " 0.405,\n",
       " 0.405,\n",
       " 0.41,\n",
       " 0.43,\n",
       " 0.39,\n",
       " 0.415,\n",
       " 0.4,\n",
       " 0.425,\n",
       " 0.425,\n",
       " 0.405,\n",
       " 0.4,\n",
       " 0.43,\n",
       " 0.435,\n",
       " 0.445,\n",
       " 0.43,\n",
       " 0.455,\n",
       " 0.4,\n",
       " 0.45,\n",
       " 0.45,\n",
       " 0.455,\n",
       " 0.445,\n",
       " 0.46,\n",
       " 0.475,\n",
       " 0.46,\n",
       " 0.46,\n",
       " 0.46,\n",
       " 0.455,\n",
       " 0.45,\n",
       " 0.49,\n",
       " 0.465,\n",
       " 0.47,\n",
       " 0.455,\n",
       " 0.47,\n",
       " 0.45,\n",
       " 0.475,\n",
       " 0.46,\n",
       " 0.455,\n",
       " 0.49,\n",
       " 0.475,\n",
       " 0.47,\n",
       " 0.47,\n",
       " 0.475,\n",
       " 0.48,\n",
       " 0.51,\n",
       " 0.48,\n",
       " 0.49,\n",
       " 0.475,\n",
       " 0.5,\n",
       " 0.485,\n",
       " 0.485,\n",
       " 0.495,\n",
       " 0.48,\n",
       " 0.49,\n",
       " 0.525,\n",
       " 0.505,\n",
       " 0.5,\n",
       " 0.5,\n",
       " ...]"
      ]
     },
     "execution_count": 585,
     "metadata": {},
     "output_type": "execute_result"
    }
   ],
   "source": [
    "outlier_list"
   ]
  },
  {
   "cell_type": "code",
   "execution_count": null,
   "metadata": {},
   "outputs": [],
   "source": [
    "outlier_dict = {}.fromkeys(outlier_list,u_b)"
   ]
  },
  {
   "cell_type": "code",
   "execution_count": null,
   "metadata": {},
   "outputs": [
    {
     "data": {
      "text/plain": [
       "{0.365: 0.675,\n",
       " 0.265: 0.675,\n",
       " 0.42: 0.675,\n",
       " 0.255: 0.675,\n",
       " 0.3: 0.675,\n",
       " 0.415: 0.675,\n",
       " 0.425: 0.675,\n",
       " 0.37: 0.675,\n",
       " 0.44: 0.675,\n",
       " 0.38: 0.675,\n",
       " 0.35: 0.675,\n",
       " 0.405: 0.675,\n",
       " 0.355: 0.675,\n",
       " 0.4: 0.675,\n",
       " 0.28: 0.675,\n",
       " 0.34: 0.675,\n",
       " 0.295: 0.675,\n",
       " 0.32: 0.675,\n",
       " 0.275: 0.675,\n",
       " 0.48: 0.675,\n",
       " 0.45: 0.675,\n",
       " 0.445: 0.675,\n",
       " 0.475: 0.675,\n",
       " 0.47: 0.675,\n",
       " 0.56: 0.675,\n",
       " 0.525: 0.675,\n",
       " 0.55: 0.675,\n",
       " 0.29: 0.675,\n",
       " 0.335: 0.675,\n",
       " 0.175: 0.675,\n",
       " 0.375: 0.675,\n",
       " 0.245: 0.675,\n",
       " 0.41: 0.675,\n",
       " 0.36: 0.675,\n",
       " 0.31: 0.675,\n",
       " 0.385: 0.675,\n",
       " 0.19: 0.675,\n",
       " 0.345: 0.675,\n",
       " 0.325: 0.675,\n",
       " 0.495: 0.675,\n",
       " 0.39: 0.675,\n",
       " 0.235: 0.675,\n",
       " 0.51: 0.675,\n",
       " 0.465: 0.675,\n",
       " 0.535: 0.675,\n",
       " 0.435: 0.675,\n",
       " 0.43: 0.675,\n",
       " 0.395: 0.675,\n",
       " 0.305: 0.675,\n",
       " 0.195: 0.675,\n",
       " 0.54: 0.675,\n",
       " 0.26: 0.675,\n",
       " 0.2: 0.675,\n",
       " 0.33: 0.675,\n",
       " 0.23: 0.675,\n",
       " 0.285: 0.675,\n",
       " 0.52: 0.675,\n",
       " 0.455: 0.675,\n",
       " 0.205: 0.675,\n",
       " 0.5: 0.675,\n",
       " 0.515: 0.675,\n",
       " 0.485: 0.675,\n",
       " 0.46: 0.675,\n",
       " 0.545: 0.675,\n",
       " 0.57: 0.675,\n",
       " 0.575: 0.675,\n",
       " 0.16: 0.675,\n",
       " 0.21: 0.675,\n",
       " 0.49: 0.675,\n",
       " 0.25: 0.675,\n",
       " 0.27: 0.675,\n",
       " 0.505: 0.675,\n",
       " 0.215: 0.675,\n",
       " 0.225: 0.675,\n",
       " 0.53: 0.675,\n",
       " 0.22: 0.675,\n",
       " 0.6: 0.675,\n",
       " 0.58: 0.675,\n",
       " 0.585: 0.675,\n",
       " 0.565: 0.675,\n",
       " 0.555: 0.675,\n",
       " 0.185: 0.675,\n",
       " 0.165: 0.675,\n",
       " 0.59: 0.675,\n",
       " 0.155: 0.675,\n",
       " 0.315: 0.675,\n",
       " 0.24: 0.675,\n",
       " 0.17: 0.675,\n",
       " 0.18: 0.675,\n",
       " 0.595: 0.675,\n",
       " 0.625: 0.675,\n",
       " 0.63: 0.675,\n",
       " 0.61: 0.675,\n",
       " 0.65: 0.675,\n",
       " 0.62: 0.675,\n",
       " 0.605: 0.675,\n",
       " 0.615: 0.675}"
      ]
     },
     "execution_count": 587,
     "metadata": {},
     "output_type": "execute_result"
    }
   ],
   "source": [
    "outlier_dict"
   ]
  },
  {
   "cell_type": "code",
   "execution_count": null,
   "metadata": {},
   "outputs": [],
   "source": [
    "df[\"Diameter\"] = df[\"Diameter\"].replace(outlier_dict)"
   ]
  },
  {
   "cell_type": "code",
   "execution_count": null,
   "metadata": {},
   "outputs": [
    {
     "data": {
      "text/html": [
       "<div>\n",
       "<style scoped>\n",
       "    .dataframe tbody tr th:only-of-type {\n",
       "        vertical-align: middle;\n",
       "    }\n",
       "\n",
       "    .dataframe tbody tr th {\n",
       "        vertical-align: top;\n",
       "    }\n",
       "\n",
       "    .dataframe thead th {\n",
       "        text-align: right;\n",
       "    }\n",
       "</style>\n",
       "<table border=\"1\" class=\"dataframe\">\n",
       "  <thead>\n",
       "    <tr style=\"text-align: right;\">\n",
       "      <th></th>\n",
       "      <th>Sex</th>\n",
       "      <th>Length</th>\n",
       "      <th>Diameter</th>\n",
       "      <th>Height</th>\n",
       "      <th>Whole weight</th>\n",
       "      <th>Shucked weight</th>\n",
       "      <th>Viscera weight</th>\n",
       "      <th>Shell weight</th>\n",
       "      <th>Rings</th>\n",
       "    </tr>\n",
       "  </thead>\n",
       "  <tbody>\n",
       "    <tr>\n",
       "      <th>0</th>\n",
       "      <td>M</td>\n",
       "      <td>0.455</td>\n",
       "      <td>0.675</td>\n",
       "      <td>0.095</td>\n",
       "      <td>0.5140</td>\n",
       "      <td>0.2245</td>\n",
       "      <td>0.1010</td>\n",
       "      <td>0.1500</td>\n",
       "      <td>15</td>\n",
       "    </tr>\n",
       "    <tr>\n",
       "      <th>1</th>\n",
       "      <td>M</td>\n",
       "      <td>0.350</td>\n",
       "      <td>0.675</td>\n",
       "      <td>0.090</td>\n",
       "      <td>0.2255</td>\n",
       "      <td>0.0995</td>\n",
       "      <td>0.0485</td>\n",
       "      <td>0.0700</td>\n",
       "      <td>7</td>\n",
       "    </tr>\n",
       "    <tr>\n",
       "      <th>2</th>\n",
       "      <td>F</td>\n",
       "      <td>0.530</td>\n",
       "      <td>0.675</td>\n",
       "      <td>0.135</td>\n",
       "      <td>0.6770</td>\n",
       "      <td>0.2565</td>\n",
       "      <td>0.1415</td>\n",
       "      <td>0.2100</td>\n",
       "      <td>9</td>\n",
       "    </tr>\n",
       "    <tr>\n",
       "      <th>3</th>\n",
       "      <td>M</td>\n",
       "      <td>0.440</td>\n",
       "      <td>0.675</td>\n",
       "      <td>0.125</td>\n",
       "      <td>0.5160</td>\n",
       "      <td>0.2155</td>\n",
       "      <td>0.1140</td>\n",
       "      <td>0.1550</td>\n",
       "      <td>10</td>\n",
       "    </tr>\n",
       "    <tr>\n",
       "      <th>4</th>\n",
       "      <td>I</td>\n",
       "      <td>0.330</td>\n",
       "      <td>0.675</td>\n",
       "      <td>0.080</td>\n",
       "      <td>0.2050</td>\n",
       "      <td>0.0895</td>\n",
       "      <td>0.0395</td>\n",
       "      <td>0.0550</td>\n",
       "      <td>7</td>\n",
       "    </tr>\n",
       "    <tr>\n",
       "      <th>...</th>\n",
       "      <td>...</td>\n",
       "      <td>...</td>\n",
       "      <td>...</td>\n",
       "      <td>...</td>\n",
       "      <td>...</td>\n",
       "      <td>...</td>\n",
       "      <td>...</td>\n",
       "      <td>...</td>\n",
       "      <td>...</td>\n",
       "    </tr>\n",
       "    <tr>\n",
       "      <th>4172</th>\n",
       "      <td>F</td>\n",
       "      <td>0.565</td>\n",
       "      <td>0.675</td>\n",
       "      <td>0.165</td>\n",
       "      <td>0.8870</td>\n",
       "      <td>0.3700</td>\n",
       "      <td>0.2390</td>\n",
       "      <td>0.2490</td>\n",
       "      <td>11</td>\n",
       "    </tr>\n",
       "    <tr>\n",
       "      <th>4173</th>\n",
       "      <td>M</td>\n",
       "      <td>0.590</td>\n",
       "      <td>0.675</td>\n",
       "      <td>0.135</td>\n",
       "      <td>0.9660</td>\n",
       "      <td>0.4390</td>\n",
       "      <td>0.2145</td>\n",
       "      <td>0.2605</td>\n",
       "      <td>10</td>\n",
       "    </tr>\n",
       "    <tr>\n",
       "      <th>4174</th>\n",
       "      <td>M</td>\n",
       "      <td>0.600</td>\n",
       "      <td>0.675</td>\n",
       "      <td>0.205</td>\n",
       "      <td>1.1760</td>\n",
       "      <td>0.5255</td>\n",
       "      <td>0.2875</td>\n",
       "      <td>0.3080</td>\n",
       "      <td>9</td>\n",
       "    </tr>\n",
       "    <tr>\n",
       "      <th>4175</th>\n",
       "      <td>F</td>\n",
       "      <td>0.625</td>\n",
       "      <td>0.675</td>\n",
       "      <td>0.150</td>\n",
       "      <td>1.0945</td>\n",
       "      <td>0.5310</td>\n",
       "      <td>0.2610</td>\n",
       "      <td>0.2960</td>\n",
       "      <td>10</td>\n",
       "    </tr>\n",
       "    <tr>\n",
       "      <th>4176</th>\n",
       "      <td>M</td>\n",
       "      <td>0.710</td>\n",
       "      <td>0.675</td>\n",
       "      <td>0.195</td>\n",
       "      <td>1.9485</td>\n",
       "      <td>0.9455</td>\n",
       "      <td>0.3765</td>\n",
       "      <td>0.4950</td>\n",
       "      <td>12</td>\n",
       "    </tr>\n",
       "  </tbody>\n",
       "</table>\n",
       "<p>4177 rows × 9 columns</p>\n",
       "</div>"
      ],
      "text/plain": [
       "     Sex  Length  Diameter  Height  Whole weight  Shucked weight  \\\n",
       "0      M   0.455     0.675   0.095        0.5140          0.2245   \n",
       "1      M   0.350     0.675   0.090        0.2255          0.0995   \n",
       "2      F   0.530     0.675   0.135        0.6770          0.2565   \n",
       "3      M   0.440     0.675   0.125        0.5160          0.2155   \n",
       "4      I   0.330     0.675   0.080        0.2050          0.0895   \n",
       "...   ..     ...       ...     ...           ...             ...   \n",
       "4172   F   0.565     0.675   0.165        0.8870          0.3700   \n",
       "4173   M   0.590     0.675   0.135        0.9660          0.4390   \n",
       "4174   M   0.600     0.675   0.205        1.1760          0.5255   \n",
       "4175   F   0.625     0.675   0.150        1.0945          0.5310   \n",
       "4176   M   0.710     0.675   0.195        1.9485          0.9455   \n",
       "\n",
       "      Viscera weight  Shell weight  Rings  \n",
       "0             0.1010        0.1500     15  \n",
       "1             0.0485        0.0700      7  \n",
       "2             0.1415        0.2100      9  \n",
       "3             0.1140        0.1550     10  \n",
       "4             0.0395        0.0550      7  \n",
       "...              ...           ...    ...  \n",
       "4172          0.2390        0.2490     11  \n",
       "4173          0.2145        0.2605     10  \n",
       "4174          0.2875        0.3080      9  \n",
       "4175          0.2610        0.2960     10  \n",
       "4176          0.3765        0.4950     12  \n",
       "\n",
       "[4177 rows x 9 columns]"
      ]
     },
     "execution_count": 589,
     "metadata": {},
     "output_type": "execute_result"
    }
   ],
   "source": [
    "df"
   ]
  },
  {
   "cell_type": "code",
   "execution_count": null,
   "metadata": {},
   "outputs": [
    {
     "data": {
      "text/html": [
       "<div>\n",
       "<style scoped>\n",
       "    .dataframe tbody tr th:only-of-type {\n",
       "        vertical-align: middle;\n",
       "    }\n",
       "\n",
       "    .dataframe tbody tr th {\n",
       "        vertical-align: top;\n",
       "    }\n",
       "\n",
       "    .dataframe thead th {\n",
       "        text-align: right;\n",
       "    }\n",
       "</style>\n",
       "<table border=\"1\" class=\"dataframe\">\n",
       "  <thead>\n",
       "    <tr style=\"text-align: right;\">\n",
       "      <th></th>\n",
       "      <th>Sex</th>\n",
       "      <th>Length</th>\n",
       "      <th>Diameter</th>\n",
       "      <th>Height</th>\n",
       "      <th>Whole weight</th>\n",
       "      <th>Shucked weight</th>\n",
       "      <th>Viscera weight</th>\n",
       "      <th>Shell weight</th>\n",
       "      <th>Rings</th>\n",
       "    </tr>\n",
       "  </thead>\n",
       "  <tbody>\n",
       "    <tr>\n",
       "      <th>0</th>\n",
       "      <td>M</td>\n",
       "      <td>0.455</td>\n",
       "      <td>0.675</td>\n",
       "      <td>0.095</td>\n",
       "      <td>0.5140</td>\n",
       "      <td>0.2245</td>\n",
       "      <td>0.1010</td>\n",
       "      <td>0.1500</td>\n",
       "      <td>15</td>\n",
       "    </tr>\n",
       "    <tr>\n",
       "      <th>1</th>\n",
       "      <td>M</td>\n",
       "      <td>0.350</td>\n",
       "      <td>0.675</td>\n",
       "      <td>0.090</td>\n",
       "      <td>0.2255</td>\n",
       "      <td>0.0995</td>\n",
       "      <td>0.0485</td>\n",
       "      <td>0.0700</td>\n",
       "      <td>7</td>\n",
       "    </tr>\n",
       "    <tr>\n",
       "      <th>2</th>\n",
       "      <td>F</td>\n",
       "      <td>0.530</td>\n",
       "      <td>0.675</td>\n",
       "      <td>0.135</td>\n",
       "      <td>0.6770</td>\n",
       "      <td>0.2565</td>\n",
       "      <td>0.1415</td>\n",
       "      <td>0.2100</td>\n",
       "      <td>9</td>\n",
       "    </tr>\n",
       "    <tr>\n",
       "      <th>3</th>\n",
       "      <td>M</td>\n",
       "      <td>0.440</td>\n",
       "      <td>0.675</td>\n",
       "      <td>0.125</td>\n",
       "      <td>0.5160</td>\n",
       "      <td>0.2155</td>\n",
       "      <td>0.1140</td>\n",
       "      <td>0.1550</td>\n",
       "      <td>10</td>\n",
       "    </tr>\n",
       "    <tr>\n",
       "      <th>4</th>\n",
       "      <td>I</td>\n",
       "      <td>0.330</td>\n",
       "      <td>0.675</td>\n",
       "      <td>0.080</td>\n",
       "      <td>0.2050</td>\n",
       "      <td>0.0895</td>\n",
       "      <td>0.0395</td>\n",
       "      <td>0.0550</td>\n",
       "      <td>7</td>\n",
       "    </tr>\n",
       "    <tr>\n",
       "      <th>...</th>\n",
       "      <td>...</td>\n",
       "      <td>...</td>\n",
       "      <td>...</td>\n",
       "      <td>...</td>\n",
       "      <td>...</td>\n",
       "      <td>...</td>\n",
       "      <td>...</td>\n",
       "      <td>...</td>\n",
       "      <td>...</td>\n",
       "    </tr>\n",
       "    <tr>\n",
       "      <th>4172</th>\n",
       "      <td>F</td>\n",
       "      <td>0.565</td>\n",
       "      <td>0.675</td>\n",
       "      <td>0.165</td>\n",
       "      <td>0.8870</td>\n",
       "      <td>0.3700</td>\n",
       "      <td>0.2390</td>\n",
       "      <td>0.2490</td>\n",
       "      <td>11</td>\n",
       "    </tr>\n",
       "    <tr>\n",
       "      <th>4173</th>\n",
       "      <td>M</td>\n",
       "      <td>0.590</td>\n",
       "      <td>0.675</td>\n",
       "      <td>0.135</td>\n",
       "      <td>0.9660</td>\n",
       "      <td>0.4390</td>\n",
       "      <td>0.2145</td>\n",
       "      <td>0.2605</td>\n",
       "      <td>10</td>\n",
       "    </tr>\n",
       "    <tr>\n",
       "      <th>4174</th>\n",
       "      <td>M</td>\n",
       "      <td>0.600</td>\n",
       "      <td>0.675</td>\n",
       "      <td>0.205</td>\n",
       "      <td>1.1760</td>\n",
       "      <td>0.5255</td>\n",
       "      <td>0.2875</td>\n",
       "      <td>0.3080</td>\n",
       "      <td>9</td>\n",
       "    </tr>\n",
       "    <tr>\n",
       "      <th>4175</th>\n",
       "      <td>F</td>\n",
       "      <td>0.625</td>\n",
       "      <td>0.675</td>\n",
       "      <td>0.150</td>\n",
       "      <td>1.0945</td>\n",
       "      <td>0.5310</td>\n",
       "      <td>0.2610</td>\n",
       "      <td>0.2960</td>\n",
       "      <td>10</td>\n",
       "    </tr>\n",
       "    <tr>\n",
       "      <th>4176</th>\n",
       "      <td>M</td>\n",
       "      <td>0.710</td>\n",
       "      <td>0.675</td>\n",
       "      <td>0.195</td>\n",
       "      <td>1.9485</td>\n",
       "      <td>0.9455</td>\n",
       "      <td>0.3765</td>\n",
       "      <td>0.4950</td>\n",
       "      <td>12</td>\n",
       "    </tr>\n",
       "  </tbody>\n",
       "</table>\n",
       "<p>4118 rows × 9 columns</p>\n",
       "</div>"
      ],
      "text/plain": [
       "     Sex  Length  Diameter  Height  Whole weight  Shucked weight  \\\n",
       "0      M   0.455     0.675   0.095        0.5140          0.2245   \n",
       "1      M   0.350     0.675   0.090        0.2255          0.0995   \n",
       "2      F   0.530     0.675   0.135        0.6770          0.2565   \n",
       "3      M   0.440     0.675   0.125        0.5160          0.2155   \n",
       "4      I   0.330     0.675   0.080        0.2050          0.0895   \n",
       "...   ..     ...       ...     ...           ...             ...   \n",
       "4172   F   0.565     0.675   0.165        0.8870          0.3700   \n",
       "4173   M   0.590     0.675   0.135        0.9660          0.4390   \n",
       "4174   M   0.600     0.675   0.205        1.1760          0.5255   \n",
       "4175   F   0.625     0.675   0.150        1.0945          0.5310   \n",
       "4176   M   0.710     0.675   0.195        1.9485          0.9455   \n",
       "\n",
       "      Viscera weight  Shell weight  Rings  \n",
       "0             0.1010        0.1500     15  \n",
       "1             0.0485        0.0700      7  \n",
       "2             0.1415        0.2100      9  \n",
       "3             0.1140        0.1550     10  \n",
       "4             0.0395        0.0550      7  \n",
       "...              ...           ...    ...  \n",
       "4172          0.2390        0.2490     11  \n",
       "4173          0.2145        0.2605     10  \n",
       "4174          0.2875        0.3080      9  \n",
       "4175          0.2610        0.2960     10  \n",
       "4176          0.3765        0.4950     12  \n",
       "\n",
       "[4118 rows x 9 columns]"
      ]
     },
     "execution_count": 590,
     "metadata": {},
     "output_type": "execute_result"
    }
   ],
   "source": [
    "df[df[\"Diameter\"]>l_b]"
   ]
  },
  {
   "cell_type": "markdown",
   "metadata": {},
   "source": [
    "Categorical columns and Perform Encoding"
   ]
  },
  {
   "cell_type": "code",
   "execution_count": null,
   "metadata": {},
   "outputs": [
    {
     "data": {
      "text/plain": [
       "Sex                object\n",
       "Length            float64\n",
       "Diameter          float64\n",
       "Height            float64\n",
       "Whole weight      float64\n",
       "Shucked weight    float64\n",
       "Viscera weight    float64\n",
       "Shell weight      float64\n",
       "Rings               int64\n",
       "dtype: object"
      ]
     },
     "execution_count": 591,
     "metadata": {},
     "output_type": "execute_result"
    }
   ],
   "source": [
    "df.dtypes"
   ]
  },
  {
   "cell_type": "code",
   "execution_count": null,
   "metadata": {},
   "outputs": [],
   "source": [
    "from sklearn.preprocessing import LabelEncoder"
   ]
  },
  {
   "cell_type": "code",
   "execution_count": null,
   "metadata": {},
   "outputs": [],
   "source": [
    "l=LabelEncoder()\n",
    "df[\"Diameter\"]=l.fit_transform(df[\"Diameter\"])\n",
    "df[\"Height\"]=l.fit_transform(df[\"Height\"])"
   ]
  },
  {
   "cell_type": "code",
   "execution_count": null,
   "metadata": {},
   "outputs": [
    {
     "data": {
      "text/html": [
       "<div>\n",
       "<style scoped>\n",
       "    .dataframe tbody tr th:only-of-type {\n",
       "        vertical-align: middle;\n",
       "    }\n",
       "\n",
       "    .dataframe tbody tr th {\n",
       "        vertical-align: top;\n",
       "    }\n",
       "\n",
       "    .dataframe thead th {\n",
       "        text-align: right;\n",
       "    }\n",
       "</style>\n",
       "<table border=\"1\" class=\"dataframe\">\n",
       "  <thead>\n",
       "    <tr style=\"text-align: right;\">\n",
       "      <th></th>\n",
       "      <th>Sex</th>\n",
       "      <th>Length</th>\n",
       "      <th>Diameter</th>\n",
       "      <th>Height</th>\n",
       "      <th>Whole weight</th>\n",
       "      <th>Shucked weight</th>\n",
       "      <th>Viscera weight</th>\n",
       "      <th>Shell weight</th>\n",
       "      <th>Rings</th>\n",
       "    </tr>\n",
       "  </thead>\n",
       "  <tbody>\n",
       "    <tr>\n",
       "      <th>0</th>\n",
       "      <td>M</td>\n",
       "      <td>0.455</td>\n",
       "      <td>14</td>\n",
       "      <td>18</td>\n",
       "      <td>0.5140</td>\n",
       "      <td>0.2245</td>\n",
       "      <td>0.1010</td>\n",
       "      <td>0.150</td>\n",
       "      <td>15</td>\n",
       "    </tr>\n",
       "    <tr>\n",
       "      <th>1</th>\n",
       "      <td>M</td>\n",
       "      <td>0.350</td>\n",
       "      <td>14</td>\n",
       "      <td>17</td>\n",
       "      <td>0.2255</td>\n",
       "      <td>0.0995</td>\n",
       "      <td>0.0485</td>\n",
       "      <td>0.070</td>\n",
       "      <td>7</td>\n",
       "    </tr>\n",
       "    <tr>\n",
       "      <th>2</th>\n",
       "      <td>F</td>\n",
       "      <td>0.530</td>\n",
       "      <td>14</td>\n",
       "      <td>26</td>\n",
       "      <td>0.6770</td>\n",
       "      <td>0.2565</td>\n",
       "      <td>0.1415</td>\n",
       "      <td>0.210</td>\n",
       "      <td>9</td>\n",
       "    </tr>\n",
       "    <tr>\n",
       "      <th>3</th>\n",
       "      <td>M</td>\n",
       "      <td>0.440</td>\n",
       "      <td>14</td>\n",
       "      <td>24</td>\n",
       "      <td>0.5160</td>\n",
       "      <td>0.2155</td>\n",
       "      <td>0.1140</td>\n",
       "      <td>0.155</td>\n",
       "      <td>10</td>\n",
       "    </tr>\n",
       "    <tr>\n",
       "      <th>4</th>\n",
       "      <td>I</td>\n",
       "      <td>0.330</td>\n",
       "      <td>14</td>\n",
       "      <td>15</td>\n",
       "      <td>0.2050</td>\n",
       "      <td>0.0895</td>\n",
       "      <td>0.0395</td>\n",
       "      <td>0.055</td>\n",
       "      <td>7</td>\n",
       "    </tr>\n",
       "    <tr>\n",
       "      <th>5</th>\n",
       "      <td>I</td>\n",
       "      <td>0.425</td>\n",
       "      <td>14</td>\n",
       "      <td>18</td>\n",
       "      <td>0.3515</td>\n",
       "      <td>0.1410</td>\n",
       "      <td>0.0775</td>\n",
       "      <td>0.120</td>\n",
       "      <td>8</td>\n",
       "    </tr>\n",
       "    <tr>\n",
       "      <th>6</th>\n",
       "      <td>F</td>\n",
       "      <td>0.530</td>\n",
       "      <td>14</td>\n",
       "      <td>29</td>\n",
       "      <td>0.7775</td>\n",
       "      <td>0.2370</td>\n",
       "      <td>0.1415</td>\n",
       "      <td>0.330</td>\n",
       "      <td>20</td>\n",
       "    </tr>\n",
       "    <tr>\n",
       "      <th>7</th>\n",
       "      <td>F</td>\n",
       "      <td>0.545</td>\n",
       "      <td>14</td>\n",
       "      <td>24</td>\n",
       "      <td>0.7680</td>\n",
       "      <td>0.2940</td>\n",
       "      <td>0.1495</td>\n",
       "      <td>0.260</td>\n",
       "      <td>16</td>\n",
       "    </tr>\n",
       "    <tr>\n",
       "      <th>8</th>\n",
       "      <td>M</td>\n",
       "      <td>0.475</td>\n",
       "      <td>14</td>\n",
       "      <td>24</td>\n",
       "      <td>0.5095</td>\n",
       "      <td>0.2165</td>\n",
       "      <td>0.1125</td>\n",
       "      <td>0.165</td>\n",
       "      <td>9</td>\n",
       "    </tr>\n",
       "    <tr>\n",
       "      <th>9</th>\n",
       "      <td>F</td>\n",
       "      <td>0.550</td>\n",
       "      <td>14</td>\n",
       "      <td>29</td>\n",
       "      <td>0.8945</td>\n",
       "      <td>0.3145</td>\n",
       "      <td>0.1510</td>\n",
       "      <td>0.320</td>\n",
       "      <td>19</td>\n",
       "    </tr>\n",
       "    <tr>\n",
       "      <th>10</th>\n",
       "      <td>F</td>\n",
       "      <td>0.525</td>\n",
       "      <td>14</td>\n",
       "      <td>27</td>\n",
       "      <td>0.6065</td>\n",
       "      <td>0.1940</td>\n",
       "      <td>0.1475</td>\n",
       "      <td>0.210</td>\n",
       "      <td>14</td>\n",
       "    </tr>\n",
       "    <tr>\n",
       "      <th>11</th>\n",
       "      <td>M</td>\n",
       "      <td>0.430</td>\n",
       "      <td>14</td>\n",
       "      <td>21</td>\n",
       "      <td>0.4060</td>\n",
       "      <td>0.1675</td>\n",
       "      <td>0.0810</td>\n",
       "      <td>0.135</td>\n",
       "      <td>10</td>\n",
       "    </tr>\n",
       "    <tr>\n",
       "      <th>12</th>\n",
       "      <td>M</td>\n",
       "      <td>0.490</td>\n",
       "      <td>14</td>\n",
       "      <td>26</td>\n",
       "      <td>0.5415</td>\n",
       "      <td>0.2175</td>\n",
       "      <td>0.0950</td>\n",
       "      <td>0.190</td>\n",
       "      <td>11</td>\n",
       "    </tr>\n",
       "    <tr>\n",
       "      <th>13</th>\n",
       "      <td>F</td>\n",
       "      <td>0.535</td>\n",
       "      <td>14</td>\n",
       "      <td>28</td>\n",
       "      <td>0.6845</td>\n",
       "      <td>0.2725</td>\n",
       "      <td>0.1710</td>\n",
       "      <td>0.205</td>\n",
       "      <td>10</td>\n",
       "    </tr>\n",
       "    <tr>\n",
       "      <th>14</th>\n",
       "      <td>F</td>\n",
       "      <td>0.470</td>\n",
       "      <td>14</td>\n",
       "      <td>19</td>\n",
       "      <td>0.4755</td>\n",
       "      <td>0.1675</td>\n",
       "      <td>0.0805</td>\n",
       "      <td>0.185</td>\n",
       "      <td>10</td>\n",
       "    </tr>\n",
       "  </tbody>\n",
       "</table>\n",
       "</div>"
      ],
      "text/plain": [
       "   Sex  Length  Diameter  Height  Whole weight  Shucked weight  \\\n",
       "0    M   0.455        14      18        0.5140          0.2245   \n",
       "1    M   0.350        14      17        0.2255          0.0995   \n",
       "2    F   0.530        14      26        0.6770          0.2565   \n",
       "3    M   0.440        14      24        0.5160          0.2155   \n",
       "4    I   0.330        14      15        0.2050          0.0895   \n",
       "5    I   0.425        14      18        0.3515          0.1410   \n",
       "6    F   0.530        14      29        0.7775          0.2370   \n",
       "7    F   0.545        14      24        0.7680          0.2940   \n",
       "8    M   0.475        14      24        0.5095          0.2165   \n",
       "9    F   0.550        14      29        0.8945          0.3145   \n",
       "10   F   0.525        14      27        0.6065          0.1940   \n",
       "11   M   0.430        14      21        0.4060          0.1675   \n",
       "12   M   0.490        14      26        0.5415          0.2175   \n",
       "13   F   0.535        14      28        0.6845          0.2725   \n",
       "14   F   0.470        14      19        0.4755          0.1675   \n",
       "\n",
       "    Viscera weight  Shell weight  Rings  \n",
       "0           0.1010         0.150     15  \n",
       "1           0.0485         0.070      7  \n",
       "2           0.1415         0.210      9  \n",
       "3           0.1140         0.155     10  \n",
       "4           0.0395         0.055      7  \n",
       "5           0.0775         0.120      8  \n",
       "6           0.1415         0.330     20  \n",
       "7           0.1495         0.260     16  \n",
       "8           0.1125         0.165      9  \n",
       "9           0.1510         0.320     19  \n",
       "10          0.1475         0.210     14  \n",
       "11          0.0810         0.135     10  \n",
       "12          0.0950         0.190     11  \n",
       "13          0.1710         0.205     10  \n",
       "14          0.0805         0.185     10  "
      ]
     },
     "execution_count": 594,
     "metadata": {},
     "output_type": "execute_result"
    }
   ],
   "source": [
    "df.head(15)"
   ]
  },
  {
   "cell_type": "markdown",
   "metadata": {},
   "source": [
    "Dependent And Independent Variables"
   ]
  },
  {
   "cell_type": "code",
   "execution_count": null,
   "metadata": {},
   "outputs": [],
   "source": [
    "y = df['Length']\n",
    "x = df.drop(columns = ['Length','Diameter',],axis = 1)"
   ]
  },
  {
   "cell_type": "code",
   "execution_count": null,
   "metadata": {},
   "outputs": [
    {
     "data": {
      "text/html": [
       "<div>\n",
       "<style scoped>\n",
       "    .dataframe tbody tr th:only-of-type {\n",
       "        vertical-align: middle;\n",
       "    }\n",
       "\n",
       "    .dataframe tbody tr th {\n",
       "        vertical-align: top;\n",
       "    }\n",
       "\n",
       "    .dataframe thead th {\n",
       "        text-align: right;\n",
       "    }\n",
       "</style>\n",
       "<table border=\"1\" class=\"dataframe\">\n",
       "  <thead>\n",
       "    <tr style=\"text-align: right;\">\n",
       "      <th></th>\n",
       "      <th>Sex</th>\n",
       "      <th>Height</th>\n",
       "      <th>Whole weight</th>\n",
       "      <th>Shucked weight</th>\n",
       "      <th>Viscera weight</th>\n",
       "      <th>Shell weight</th>\n",
       "      <th>Rings</th>\n",
       "    </tr>\n",
       "  </thead>\n",
       "  <tbody>\n",
       "    <tr>\n",
       "      <th>0</th>\n",
       "      <td>M</td>\n",
       "      <td>18</td>\n",
       "      <td>0.5140</td>\n",
       "      <td>0.2245</td>\n",
       "      <td>0.1010</td>\n",
       "      <td>0.1500</td>\n",
       "      <td>15</td>\n",
       "    </tr>\n",
       "    <tr>\n",
       "      <th>1</th>\n",
       "      <td>M</td>\n",
       "      <td>17</td>\n",
       "      <td>0.2255</td>\n",
       "      <td>0.0995</td>\n",
       "      <td>0.0485</td>\n",
       "      <td>0.0700</td>\n",
       "      <td>7</td>\n",
       "    </tr>\n",
       "    <tr>\n",
       "      <th>2</th>\n",
       "      <td>F</td>\n",
       "      <td>26</td>\n",
       "      <td>0.6770</td>\n",
       "      <td>0.2565</td>\n",
       "      <td>0.1415</td>\n",
       "      <td>0.2100</td>\n",
       "      <td>9</td>\n",
       "    </tr>\n",
       "    <tr>\n",
       "      <th>3</th>\n",
       "      <td>M</td>\n",
       "      <td>24</td>\n",
       "      <td>0.5160</td>\n",
       "      <td>0.2155</td>\n",
       "      <td>0.1140</td>\n",
       "      <td>0.1550</td>\n",
       "      <td>10</td>\n",
       "    </tr>\n",
       "    <tr>\n",
       "      <th>4</th>\n",
       "      <td>I</td>\n",
       "      <td>15</td>\n",
       "      <td>0.2050</td>\n",
       "      <td>0.0895</td>\n",
       "      <td>0.0395</td>\n",
       "      <td>0.0550</td>\n",
       "      <td>7</td>\n",
       "    </tr>\n",
       "    <tr>\n",
       "      <th>...</th>\n",
       "      <td>...</td>\n",
       "      <td>...</td>\n",
       "      <td>...</td>\n",
       "      <td>...</td>\n",
       "      <td>...</td>\n",
       "      <td>...</td>\n",
       "      <td>...</td>\n",
       "    </tr>\n",
       "    <tr>\n",
       "      <th>4172</th>\n",
       "      <td>F</td>\n",
       "      <td>32</td>\n",
       "      <td>0.8870</td>\n",
       "      <td>0.3700</td>\n",
       "      <td>0.2390</td>\n",
       "      <td>0.2490</td>\n",
       "      <td>11</td>\n",
       "    </tr>\n",
       "    <tr>\n",
       "      <th>4173</th>\n",
       "      <td>M</td>\n",
       "      <td>26</td>\n",
       "      <td>0.9660</td>\n",
       "      <td>0.4390</td>\n",
       "      <td>0.2145</td>\n",
       "      <td>0.2605</td>\n",
       "      <td>10</td>\n",
       "    </tr>\n",
       "    <tr>\n",
       "      <th>4174</th>\n",
       "      <td>M</td>\n",
       "      <td>40</td>\n",
       "      <td>1.1760</td>\n",
       "      <td>0.5255</td>\n",
       "      <td>0.2875</td>\n",
       "      <td>0.3080</td>\n",
       "      <td>9</td>\n",
       "    </tr>\n",
       "    <tr>\n",
       "      <th>4175</th>\n",
       "      <td>F</td>\n",
       "      <td>29</td>\n",
       "      <td>1.0945</td>\n",
       "      <td>0.5310</td>\n",
       "      <td>0.2610</td>\n",
       "      <td>0.2960</td>\n",
       "      <td>10</td>\n",
       "    </tr>\n",
       "    <tr>\n",
       "      <th>4176</th>\n",
       "      <td>M</td>\n",
       "      <td>38</td>\n",
       "      <td>1.9485</td>\n",
       "      <td>0.9455</td>\n",
       "      <td>0.3765</td>\n",
       "      <td>0.4950</td>\n",
       "      <td>12</td>\n",
       "    </tr>\n",
       "  </tbody>\n",
       "</table>\n",
       "<p>4177 rows × 7 columns</p>\n",
       "</div>"
      ],
      "text/plain": [
       "     Sex  Height  Whole weight  Shucked weight  Viscera weight  Shell weight  \\\n",
       "0      M      18        0.5140          0.2245          0.1010        0.1500   \n",
       "1      M      17        0.2255          0.0995          0.0485        0.0700   \n",
       "2      F      26        0.6770          0.2565          0.1415        0.2100   \n",
       "3      M      24        0.5160          0.2155          0.1140        0.1550   \n",
       "4      I      15        0.2050          0.0895          0.0395        0.0550   \n",
       "...   ..     ...           ...             ...             ...           ...   \n",
       "4172   F      32        0.8870          0.3700          0.2390        0.2490   \n",
       "4173   M      26        0.9660          0.4390          0.2145        0.2605   \n",
       "4174   M      40        1.1760          0.5255          0.2875        0.3080   \n",
       "4175   F      29        1.0945          0.5310          0.2610        0.2960   \n",
       "4176   M      38        1.9485          0.9455          0.3765        0.4950   \n",
       "\n",
       "      Rings  \n",
       "0        15  \n",
       "1         7  \n",
       "2         9  \n",
       "3        10  \n",
       "4         7  \n",
       "...     ...  \n",
       "4172     11  \n",
       "4173     10  \n",
       "4174      9  \n",
       "4175     10  \n",
       "4176     12  \n",
       "\n",
       "[4177 rows x 7 columns]"
      ]
     },
     "execution_count": 596,
     "metadata": {},
     "output_type": "execute_result"
    }
   ],
   "source": [
    "x"
   ]
  },
  {
   "cell_type": "code",
   "execution_count": null,
   "metadata": {},
   "outputs": [
    {
     "data": {
      "text/plain": [
       "0       0.455\n",
       "1       0.350\n",
       "2       0.530\n",
       "3       0.440\n",
       "4       0.330\n",
       "        ...  \n",
       "4172    0.565\n",
       "4173    0.590\n",
       "4174    0.600\n",
       "4175    0.625\n",
       "4176    0.710\n",
       "Name: Length, Length: 4177, dtype: float64"
      ]
     },
     "execution_count": 597,
     "metadata": {},
     "output_type": "execute_result"
    }
   ],
   "source": [
    "y"
   ]
  },
  {
   "cell_type": "markdown",
   "metadata": {},
   "source": [
    "Scale the Independent Variables"
   ]
  },
  {
   "cell_type": "code",
   "execution_count": null,
   "metadata": {},
   "outputs": [
    {
     "data": {
      "text/plain": [
       "Index(['Sex', 'Height', 'Whole weight', 'Shucked weight', 'Viscera weight',\n",
       "       'Shell weight', 'Rings'],\n",
       "      dtype='object')"
      ]
     },
     "execution_count": 598,
     "metadata": {},
     "output_type": "execute_result"
    }
   ],
   "source": [
    "names=x.columns\n",
    "names"
   ]
  },
  {
   "cell_type": "code",
   "execution_count": null,
   "metadata": {},
   "outputs": [
    {
     "name": "stdout",
     "output_type": "stream",
     "text": [
      "     Sex  Length  Diameter  Height  Whole weight  Shucked weight  \\\n",
      "0      M   0.455        14      18        0.5140          0.2245   \n",
      "1      M   0.350        14      17        0.2255          0.0995   \n",
      "2      F   0.530        14      26        0.6770          0.2565   \n",
      "3      M   0.440        14      24        0.5160          0.2155   \n",
      "4      I   0.330        14      15        0.2050          0.0895   \n",
      "...   ..     ...       ...     ...           ...             ...   \n",
      "4172   F   0.565        14      32        0.8870          0.3700   \n",
      "4173   M   0.590        14      26        0.9660          0.4390   \n",
      "4174   M   0.600        14      40        1.1760          0.5255   \n",
      "4175   F   0.625        14      29        1.0945          0.5310   \n",
      "4176   M   0.710        14      38        1.9485          0.9455   \n",
      "\n",
      "      Viscera weight  Shell weight     Rings  \n",
      "0             0.1010        0.1500  1.571544  \n",
      "1             0.0485        0.0700 -0.910013  \n",
      "2             0.1415        0.2100 -0.289624  \n",
      "3             0.1140        0.1550  0.020571  \n",
      "4             0.0395        0.0550 -0.910013  \n",
      "...              ...           ...       ...  \n",
      "4172          0.2390        0.2490  0.330765  \n",
      "4173          0.2145        0.2605  0.020571  \n",
      "4174          0.2875        0.3080 -0.289624  \n",
      "4175          0.2610        0.2960  0.020571  \n",
      "4176          0.3765        0.4950  0.640960  \n",
      "\n",
      "[4177 rows x 9 columns]\n"
     ]
    }
   ],
   "source": [
    "from sklearn.preprocessing import StandardScaler\n",
    "scaler = StandardScaler()\n",
    "df[[\"Rings\"]] = scaler.fit_transform(df[[\"Rings\"]])\n",
    "print(df)"
   ]
  },
  {
   "cell_type": "markdown",
   "metadata": {},
   "source": [
    "Split the data into training and testing"
   ]
  },
  {
   "cell_type": "code",
   "execution_count": null,
   "metadata": {},
   "outputs": [],
   "source": [
    "from sklearn.model_selection import train_test_split"
   ]
  },
  {
   "cell_type": "code",
   "execution_count": null,
   "metadata": {},
   "outputs": [],
   "source": [
    "x_train,x_test,y_train,y_test = train_test_split(x,y,test_size = 0.2, random_state = 0)"
   ]
  },
  {
   "cell_type": "code",
   "execution_count": null,
   "metadata": {},
   "outputs": [
    {
     "data": {
      "text/plain": [
       "(3341, 7)"
      ]
     },
     "execution_count": 602,
     "metadata": {},
     "output_type": "execute_result"
    }
   ],
   "source": [
    "x_train.shape"
   ]
  },
  {
   "cell_type": "code",
   "execution_count": null,
   "metadata": {},
   "outputs": [
    {
     "data": {
      "text/plain": [
       "(836, 7)"
      ]
     },
     "execution_count": 603,
     "metadata": {},
     "output_type": "execute_result"
    }
   ],
   "source": [
    "x_test.shape"
   ]
  },
  {
   "cell_type": "code",
   "execution_count": null,
   "metadata": {},
   "outputs": [
    {
     "data": {
      "text/plain": [
       "(3341,)"
      ]
     },
     "execution_count": 604,
     "metadata": {},
     "output_type": "execute_result"
    }
   ],
   "source": [
    "y_train.shape"
   ]
  },
  {
   "cell_type": "code",
   "execution_count": null,
   "metadata": {},
   "outputs": [
    {
     "data": {
      "text/plain": [
       "(836,)"
      ]
     },
     "execution_count": 605,
     "metadata": {},
     "output_type": "execute_result"
    }
   ],
   "source": [
    "y_test.shape"
   ]
  },
  {
   "cell_type": "markdown",
   "metadata": {},
   "source": [
    " Build the Model"
   ]
  },
  {
   "cell_type": "code",
   "execution_count": null,
   "metadata": {},
   "outputs": [],
   "source": [
    "full_health_data = pd.read_csv(\"C:/Users/hemaa/Downloads/abalone.csv\", header=0, sep=\",\")"
   ]
  },
  {
   "cell_type": "code",
   "execution_count": null,
   "metadata": {},
   "outputs": [],
   "source": [
    "x = full_health_data[\"Length\"]\n",
    "y = full_health_data[\"Rings\"]\n"
   ]
  },
  {
   "cell_type": "code",
   "execution_count": null,
   "metadata": {},
   "outputs": [],
   "source": [
    "from scipy.stats import stats\n",
    "\n",
    "\n",
    "slope, intercept, r, p, std_err = stats.linregress(x, y)"
   ]
  },
  {
   "cell_type": "code",
   "execution_count": null,
   "metadata": {},
   "outputs": [],
   "source": [
    "def myfunc(x):\n",
    "    return slope * x + intercept"
   ]
  },
  {
   "cell_type": "code",
   "execution_count": null,
   "metadata": {},
   "outputs": [],
   "source": [
    "mymodel = list(map(myfunc, x))"
   ]
  },
  {
   "cell_type": "code",
   "execution_count": null,
   "metadata": {},
   "outputs": [
    {
     "data": {
      "image/png": "[encoded data removed]",
      "text/plain": [
       "<Figure size 640x480 with 1 Axes>"
      ]
     },
     "metadata": {},
     "output_type": "display_data"
    }
   ],
   "source": [
    "plt.scatter(x, y)\n",
    "plt.plot(x, mymodel)\n",
    "plt.ylim(ymin=0, ymax=200)\n",
    "plt.xlim(xmin=0, xmax=20)\n",
    "plt.xlabel(\"Length\")\n",
    "plt.ylabel (\"Rings\")\n",
    "plt.show()"
   ]
  },
  {
   "cell_type": "markdown",
   "metadata": {},
   "source": [
    "Train the Model"
   ]
  },
  {
   "cell_type": "code",
   "execution_count": null,
   "metadata": {},
   "outputs": [
    {
     "data": {
      "text/plain": [
       "<function RandomState.seed>"
      ]
     },
     "execution_count": 612,
     "metadata": {},
     "output_type": "execute_result"
    }
   ],
   "source": [
    "import numpy\n",
    "\n",
    "\n",
    "numpy.random.seed"
   ]
  },
  {
   "cell_type": "code",
   "execution_count": null,
   "metadata": {},
   "outputs": [],
   "source": [
    "x = numpy.random.normal(3, 1, 100)\n",
    "y = numpy.random.normal(150, 40, 100) / x"
   ]
  },
  {
   "cell_type": "code",
   "execution_count": null,
   "metadata": {},
   "outputs": [],
   "source": [
    "train_x = x[:80]\n",
    "train_y = y[:80]\n"
   ]
  },
  {
   "cell_type": "code",
   "execution_count": null,
   "metadata": {},
   "outputs": [],
   "source": [
    "test_x = x[80:]\n",
    "test_y = y[80:]"
   ]
  },
  {
   "cell_type": "code",
   "execution_count": null,
   "metadata": {},
   "outputs": [
    {
     "data": {
      "image/png": "[encoded data removed]",
      "text/plain": [
       "<Figure size 640x480 with 1 Axes>"
      ]
     },
     "metadata": {},
     "output_type": "display_data"
    }
   ],
   "source": [
    "plt.scatter(train_x, train_y)\n",
    "plt.show()"
   ]
  },
  {
   "cell_type": "markdown",
   "metadata": {},
   "source": [
    "Test the Model\n"
   ]
  },
  {
   "cell_type": "code",
   "execution_count": null,
   "metadata": {},
   "outputs": [
    {
     "data": {
      "text/plain": [
       "<function RandomState.seed>"
      ]
     },
     "execution_count": 617,
     "metadata": {},
     "output_type": "execute_result"
    }
   ],
   "source": [
    "from sklearn.metrics import r2_score\n",
    "numpy.random.seed"
   ]
  },
  {
   "cell_type": "code",
   "execution_count": null,
   "metadata": {},
   "outputs": [],
   "source": [
    "x = numpy.random.normal(3, 1, 100)\n",
    "y = numpy.random.normal(150, 40, 100) / x"
   ]
  },
  {
   "cell_type": "code",
   "execution_count": null,
   "metadata": {},
   "outputs": [],
   "source": [
    "train_x = x[:80]\n",
    "train_y = y[:80]"
   ]
  },
  {
   "cell_type": "code",
   "execution_count": null,
   "metadata": {},
   "outputs": [],
   "source": [
    "test_x = x[80:]\n",
    "test_y = y[80:]"
   ]
  },
  {
   "cell_type": "code",
   "execution_count": null,
   "metadata": {},
   "outputs": [
    {
     "data": {
      "image/png": "[encoded data removed]",
      "text/plain": [
       "<Figure size 640x480 with 1 Axes>"
      ]
     },
     "metadata": {},
     "output_type": "display_data"
    }
   ],
   "source": [
    "plt.scatter(test_x, test_y)\n",
    "plt.show()"
   ]
  },
  {
   "cell_type": "markdown",
   "metadata": {},
   "source": [
    "Measure the performance using Metrics"
   ]
  },
  {
   "cell_type": "code",
   "execution_count": null,
   "metadata": {},
   "outputs": [],
   "source": [
    "#split x&y"
   ]
  }
 ],
 "metadata": {
  "kernelspec": {
   "display_name": "Python 3.10.7 64-bit",
   "language": "python",
   "name": "python3"
  },
  "language_info": {
   "codemirror_mode": {
    "name": "ipython",
    "version": 3
   },
   "file_extension": ".py",
   "mimetype": "text/x-python",
   "name": "python",
   "nbconvert_exporter": "python",
   "pygments_lexer": "ipython3",
   "version": "3.10.7"
  },
  "orig_nbformat": 4,
  "vscode": {
   "interpreter": {
    "hash": "369f2c481f4da34e4445cda3fffd2e751bd1c4d706f27375911949ba6bb62e1c"
   }
  }
 },
 "nbformat": 4,
 "nbformat_minor": 2
}
